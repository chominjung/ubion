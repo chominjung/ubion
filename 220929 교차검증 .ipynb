{
 "cells": [
  {
   "cell_type": "markdown",
   "id": "58ba1d7f",
   "metadata": {},
   "source": [
    "#### sklearn.model_selection.KFold\n",
    "* class sklearn.model_selection.KFold(n_splits=5, *, shuffle=False, random_state=None)[source]"
   ]
  },
  {
   "cell_type": "code",
   "execution_count": 81,
   "id": "c128d418",
   "metadata": {
    "ExecuteTime": {
     "end_time": "2022-09-29T07:48:42.658296Z",
     "start_time": "2022-09-29T07:48:42.641296Z"
    }
   },
   "outputs": [],
   "source": [
    "from sklearn.tree import DecisionTreeClassifier\n",
    "from sklearn.metrics import accuracy_score\n",
    "from sklearn.model_selection import KFold\n",
    "import numpy as np\n",
    "from sklearn.datasets import load_iris"
   ]
  },
  {
   "cell_type": "code",
   "execution_count": 82,
   "id": "0167d0ca",
   "metadata": {
    "ExecuteTime": {
     "end_time": "2022-09-29T07:48:42.690246Z",
     "start_time": "2022-09-29T07:48:42.665278Z"
    }
   },
   "outputs": [],
   "source": [
    "iris=load_iris()\n",
    "features = iris.data\n",
    "label = iris.target\n",
    "dt_clf = DecisionTreeClassifier(random_state=156)"
   ]
  },
  {
   "cell_type": "code",
   "execution_count": 83,
   "id": "85b18b98",
   "metadata": {
    "ExecuteTime": {
     "end_time": "2022-09-29T07:48:42.737600Z",
     "start_time": "2022-09-29T07:48:42.693203Z"
    }
   },
   "outputs": [
    {
     "name": "stdout",
     "output_type": "stream",
     "text": [
      "[0.875, 0.9583, 1.0, 0.9167, 0.9583]\n"
     ]
    },
    {
     "data": {
      "text/plain": [
       "0.94166"
      ]
     },
     "execution_count": 83,
     "metadata": {},
     "output_type": "execute_result"
    }
   ],
   "source": [
    "from sklearn.model_selection import train_test_split\n",
    "X_train, X_test, y_train, y_test = train_test_split(features, label, test_size=0.2, random_state=11)\n",
    "\n",
    "kfold = KFold()\n",
    "cv_accuracy=[]\n",
    "for i , j in kfold.split(X_train, y_train):\n",
    "#     print(f'train set : {i}')\n",
    "#     print(f'validation set : {j}')\n",
    "#     print('\\n')\n",
    "    train_X , test_X = X_train[i], X_train[j]\n",
    "    train_y , test_y = y_train[i], y_train[j]\n",
    "    dt_clf.fit(train_X, train_y)\n",
    "    pred = dt_clf.predict(test_X)\n",
    "    accuracy = np.round(accuracy_score(test_y,pred), 4)\n",
    "    cv_accuracy.append(accuracy)\n",
    "#     print(accuracy)\n",
    "print(cv_accuracy)   \n",
    "np.mean(cv_accuracy)"
   ]
  },
  {
   "cell_type": "code",
   "execution_count": 84,
   "id": "93bf6421",
   "metadata": {
    "ExecuteTime": {
     "end_time": "2022-09-29T07:48:42.785473Z",
     "start_time": "2022-09-29T07:48:42.746577Z"
    }
   },
   "outputs": [
    {
     "name": "stdout",
     "output_type": "stream",
     "text": [
      "[1.0, 0.9667, 0.8667, 0.9333, 0.7333]\n"
     ]
    },
    {
     "data": {
      "text/plain": [
       "0.9"
      ]
     },
     "execution_count": 84,
     "metadata": {},
     "output_type": "execute_result"
    }
   ],
   "source": [
    "from sklearn.model_selection import train_test_split\n",
    "kfold = KFold()\n",
    "cv_accuracy = []\n",
    "n_iter=0\n",
    "for train_index  , test_index in kfold.split(features):\n",
    "#     print(f\"train set :{i}\")\n",
    "#     print(f\"validation set :{j}\")\n",
    "#     print('\\n')\n",
    "    n_iter +=1\n",
    "    X_train , X_test = features[train_index] , features[test_index]\n",
    "    y_train , y_test = label[train_index] , label[test_index]\n",
    "    dt_clf.fit(X_train, y_train)\n",
    "    pred = dt_clf.predict(X_test)\n",
    "    accuracy = np.round(accuracy_score(y_test,pred), 4)\n",
    "    cv_accuracy.append(accuracy)\n",
    "#     print(accuracy)\n",
    "print(cv_accuracy)\n",
    "np.mean(cv_accuracy)"
   ]
  },
  {
   "cell_type": "code",
   "execution_count": 85,
   "id": "782e5f0a",
   "metadata": {
    "ExecuteTime": {
     "end_time": "2022-09-29T07:48:42.830875Z",
     "start_time": "2022-09-29T07:48:42.791457Z"
    }
   },
   "outputs": [
    {
     "name": "stdout",
     "output_type": "stream",
     "text": [
      "\n",
      "1번째 정확도 0.0  , 학습데이터 크기 100, 검증데이터 크기 50\n",
      "\n",
      " 1번째 검증데이터 인덱스 [ 0  1  2  3  4  5  6  7  8  9 10 11 12 13 14 15 16 17 18 19 20 21 22 23\n",
      " 24 25 26 27 28 29 30 31 32 33 34 35 36 37 38 39 40 41 42 43 44 45 46 47\n",
      " 48 49] \n",
      "\n",
      "2번째 정확도 0.0  , 학습데이터 크기 100, 검증데이터 크기 50\n",
      "\n",
      " 2번째 검증데이터 인덱스 [50 51 52 53 54 55 56 57 58 59 60 61 62 63 64 65 66 67 68 69 70 71 72 73\n",
      " 74 75 76 77 78 79 80 81 82 83 84 85 86 87 88 89 90 91 92 93 94 95 96 97\n",
      " 98 99] \n",
      "\n",
      "3번째 정확도 0.0  , 학습데이터 크기 100, 검증데이터 크기 50\n",
      "\n",
      " 3번째 검증데이터 인덱스 [100 101 102 103 104 105 106 107 108 109 110 111 112 113 114 115 116 117\n",
      " 118 119 120 121 122 123 124 125 126 127 128 129 130 131 132 133 134 135\n",
      " 136 137 138 139 140 141 142 143 144 145 146 147 148 149] \n"
     ]
    }
   ],
   "source": [
    "# kfold의 문제점\n",
    "\n",
    "from sklearn.model_selection import train_test_split\n",
    "kfold = KFold(n_splits=3)\n",
    "cv_accuracy = []\n",
    "n_iter = 0\n",
    "\n",
    "for train_index  , test_index in kfold.split(features):\n",
    "#     print(f\"train set :{i}\")\n",
    "#     print(f\"validation set :{j}\")\n",
    "#     print('\\n')\n",
    "    n_iter +=1\n",
    "    X_train , X_test = features[train_index] , features[test_index]\n",
    "    y_train , y_test = label[train_index] , label[test_index]\n",
    "    \n",
    "    dt_clf.fit(X_train, y_train)\n",
    "    pred = dt_clf.predict(X_test)\n",
    "    accuracy = np.round(accuracy_score(y_test,pred), 4)\n",
    "    print(f'\\n{n_iter}번째 정확도 {accuracy}  , 학습데이터 크기 {X_train.shape[0]}, 검증데이터 크기 {X_test.shape[0]}')\n",
    "    print(f'\\n {n_iter}번째 검증데이터 인덱스 {test_index} ')\n",
    "    cv_accuracy.append(accuracy)\n",
    "    \n",
    "#     print(accuracy)\n",
    "# print(cv_accuracy)\n",
    "# np.mean(cv_accuracy)"
   ]
  },
  {
   "cell_type": "markdown",
   "id": "22be94b6",
   "metadata": {},
   "source": [
    "#### sklearn.model_selection.StratifiedKFold\n",
    "* class sklearn.model_selection.StratifiedKFold(n_splits=5, *, shuffle=False, random_state=None)"
   ]
  },
  {
   "cell_type": "code",
   "execution_count": 86,
   "id": "0484f3e4",
   "metadata": {
    "ExecuteTime": {
     "end_time": "2022-09-29T07:48:42.876743Z",
     "start_time": "2022-09-29T07:48:42.835853Z"
    }
   },
   "outputs": [
    {
     "name": "stdout",
     "output_type": "stream",
     "text": [
      "\n",
      "1번째 정확도 0.98  , 학습데이터 크기 100, 검증데이터 크기 50\n",
      "\n",
      " 1번째 검증데이터 인덱스 [  0   1   2   3   4   5   6   7   8   9  10  11  12  13  14  15  16  50\n",
      "  51  52  53  54  55  56  57  58  59  60  61  62  63  64  65  66 100 101\n",
      " 102 103 104 105 106 107 108 109 110 111 112 113 114 115] \n",
      "\n",
      "2번째 정확도 0.94  , 학습데이터 크기 100, 검증데이터 크기 50\n",
      "\n",
      " 2번째 검증데이터 인덱스 [ 17  18  19  20  21  22  23  24  25  26  27  28  29  30  31  32  33  67\n",
      "  68  69  70  71  72  73  74  75  76  77  78  79  80  81  82 116 117 118\n",
      " 119 120 121 122 123 124 125 126 127 128 129 130 131 132] \n",
      "\n",
      "3번째 정확도 0.98  , 학습데이터 크기 100, 검증데이터 크기 50\n",
      "\n",
      " 3번째 검증데이터 인덱스 [ 34  35  36  37  38  39  40  41  42  43  44  45  46  47  48  49  83  84\n",
      "  85  86  87  88  89  90  91  92  93  94  95  96  97  98  99 133 134 135\n",
      " 136 137 138 139 140 141 142 143 144 145 146 147 148 149] \n"
     ]
    },
    {
     "data": {
      "text/plain": [
       "0.9666666666666667"
      ]
     },
     "execution_count": 86,
     "metadata": {},
     "output_type": "execute_result"
    }
   ],
   "source": [
    "from sklearn.model_selection import StratifiedKFold\n",
    "\n",
    "sfk = StratifiedKFold(n_splits=3)\n",
    "cv_accuracy = []\n",
    "n_iter = 0\n",
    "for train_index, test_index in sfk.split(features, label):\n",
    "    n_iter +=1\n",
    "    X_train, X_test = features[train_index], features[test_index]\n",
    "    y_train, y_test = label[train_index], label[test_index]\n",
    "    \n",
    "    dt_clf.fit(X_train, y_train)\n",
    "    pred = dt_clf.predict(X_test)\n",
    "    accuracy = np.round(accuracy_score(y_test,pred), 4)\n",
    "    print(f'\\n{n_iter}번째 정확도 {accuracy}  , 학습데이터 크기 {X_train.shape[0]}, 검증데이터 크기 {X_test.shape[0]}')\n",
    "    print(f'\\n {n_iter}번째 검증데이터 인덱스 {test_index} ')\n",
    "    cv_accuracy.append(accuracy)\n",
    "np.mean(cv_accuracy)"
   ]
  },
  {
   "cell_type": "markdown",
   "id": "1f9f5725",
   "metadata": {},
   "source": [
    "#### sklearn.model_selection.cross_val_score\n",
    "* sklearn.model_selection.cross_val_score(estimator, X, y=None, *, groups=None, scoring=None, cv=None, n_jobs=None, verbose=0, fit_params=None, pre_dispatch='2*n_jobs', error_score=nan)"
   ]
  },
  {
   "cell_type": "code",
   "execution_count": 87,
   "id": "83a46cd8",
   "metadata": {
    "ExecuteTime": {
     "end_time": "2022-09-29T07:48:42.923688Z",
     "start_time": "2022-09-29T07:48:42.880734Z"
    }
   },
   "outputs": [
    {
     "name": "stdout",
     "output_type": "stream",
     "text": [
      "교차 검증별 정확도: [0.98 0.94 0.98]\n",
      "평균 검증 정확도: 0.9667\n"
     ]
    }
   ],
   "source": [
    "from sklearn.model_selection import cross_val_score, cross_validate\n",
    "iris_data = load_iris()\n",
    "dt_clf = DecisionTreeClassifier(random_state=156)\n",
    "features = iris_data.data\n",
    "label = iris_data.target\n",
    "# 성능 지표는 정확도(Accuracy), 교차 검증 세트는 3개\n",
    "scores = cross_val_score(dt_clf, features, label, scoring='accuracy', cv=3)\n",
    "print(f'교차 검증별 정확도: {np.round(scores, 4)}')\n",
    "print(f'평균 검증 정확도: {np.round(np.mean(scores), 4)}')"
   ]
  },
  {
   "cell_type": "markdown",
   "id": "3cad2f9d",
   "metadata": {},
   "source": [
    "#### sklearn.model_selection.GridSearchCV\n",
    "* class sklearn.model_selection.GridSearchCV(estimator, param_grid, *, scoring=None, n_jobs=None, refit=True, cv=None, verbose=0, pre_dispatch='2*n_jobs', error_score=nan, return_train_score=False)"
   ]
  },
  {
   "cell_type": "code",
   "execution_count": 88,
   "id": "124004dd",
   "metadata": {
    "ExecuteTime": {
     "end_time": "2022-09-29T07:48:43.049352Z",
     "start_time": "2022-09-29T07:48:42.933662Z"
    }
   },
   "outputs": [
    {
     "data": {
      "text/html": [
       "<div>\n",
       "<style scoped>\n",
       "    .dataframe tbody tr th:only-of-type {\n",
       "        vertical-align: middle;\n",
       "    }\n",
       "\n",
       "    .dataframe tbody tr th {\n",
       "        vertical-align: top;\n",
       "    }\n",
       "\n",
       "    .dataframe thead th {\n",
       "        text-align: right;\n",
       "    }\n",
       "</style>\n",
       "<table border=\"1\" class=\"dataframe\">\n",
       "  <thead>\n",
       "    <tr style=\"text-align: right;\">\n",
       "      <th></th>\n",
       "      <th>params</th>\n",
       "      <th>mean_test_score</th>\n",
       "      <th>rank_test_score</th>\n",
       "      <th>split0_test_score</th>\n",
       "      <th>split1_test_score</th>\n",
       "      <th>split2_test_score</th>\n",
       "    </tr>\n",
       "  </thead>\n",
       "  <tbody>\n",
       "    <tr>\n",
       "      <th>0</th>\n",
       "      <td>{'max_depth': 1, 'min_samples_split': 2}</td>\n",
       "      <td>0.700000</td>\n",
       "      <td>5</td>\n",
       "      <td>0.700</td>\n",
       "      <td>0.7</td>\n",
       "      <td>0.70</td>\n",
       "    </tr>\n",
       "    <tr>\n",
       "      <th>1</th>\n",
       "      <td>{'max_depth': 1, 'min_samples_split': 3}</td>\n",
       "      <td>0.700000</td>\n",
       "      <td>5</td>\n",
       "      <td>0.700</td>\n",
       "      <td>0.7</td>\n",
       "      <td>0.70</td>\n",
       "    </tr>\n",
       "    <tr>\n",
       "      <th>2</th>\n",
       "      <td>{'max_depth': 2, 'min_samples_split': 2}</td>\n",
       "      <td>0.958333</td>\n",
       "      <td>3</td>\n",
       "      <td>0.925</td>\n",
       "      <td>1.0</td>\n",
       "      <td>0.95</td>\n",
       "    </tr>\n",
       "    <tr>\n",
       "      <th>3</th>\n",
       "      <td>{'max_depth': 2, 'min_samples_split': 3}</td>\n",
       "      <td>0.958333</td>\n",
       "      <td>3</td>\n",
       "      <td>0.925</td>\n",
       "      <td>1.0</td>\n",
       "      <td>0.95</td>\n",
       "    </tr>\n",
       "    <tr>\n",
       "      <th>4</th>\n",
       "      <td>{'max_depth': 3, 'min_samples_split': 2}</td>\n",
       "      <td>0.975000</td>\n",
       "      <td>1</td>\n",
       "      <td>0.975</td>\n",
       "      <td>1.0</td>\n",
       "      <td>0.95</td>\n",
       "    </tr>\n",
       "    <tr>\n",
       "      <th>5</th>\n",
       "      <td>{'max_depth': 3, 'min_samples_split': 3}</td>\n",
       "      <td>0.975000</td>\n",
       "      <td>1</td>\n",
       "      <td>0.975</td>\n",
       "      <td>1.0</td>\n",
       "      <td>0.95</td>\n",
       "    </tr>\n",
       "  </tbody>\n",
       "</table>\n",
       "</div>"
      ],
      "text/plain": [
       "                                     params  mean_test_score  rank_test_score  \\\n",
       "0  {'max_depth': 1, 'min_samples_split': 2}         0.700000                5   \n",
       "1  {'max_depth': 1, 'min_samples_split': 3}         0.700000                5   \n",
       "2  {'max_depth': 2, 'min_samples_split': 2}         0.958333                3   \n",
       "3  {'max_depth': 2, 'min_samples_split': 3}         0.958333                3   \n",
       "4  {'max_depth': 3, 'min_samples_split': 2}         0.975000                1   \n",
       "5  {'max_depth': 3, 'min_samples_split': 3}         0.975000                1   \n",
       "\n",
       "   split0_test_score  split1_test_score  split2_test_score  \n",
       "0              0.700                0.7               0.70  \n",
       "1              0.700                0.7               0.70  \n",
       "2              0.925                1.0               0.95  \n",
       "3              0.925                1.0               0.95  \n",
       "4              0.975                1.0               0.95  \n",
       "5              0.975                1.0               0.95  "
      ]
     },
     "execution_count": 88,
     "metadata": {},
     "output_type": "execute_result"
    }
   ],
   "source": [
    "from sklearn.tree import DecisionTreeClassifier\n",
    "from sklearn.model_selection import GridSearchCV\n",
    "from sklearn.datasets import load_iris\n",
    "# 데이터를 로딩하고 학습데이터와 테스트 데이터 분리\n",
    "iris = load_iris()\n",
    "X_train, X_test, y_train, y_test = train_test_split(iris_data.data, iris_data.target, test_size=0.2, random_state=121)\n",
    "dtree = DecisionTreeClassifier()\n",
    "## parameter들을 dictionary형태로 설정\n",
    "parameters = {'max_depth' : [1,2,3], 'min_samples_split' : [2,3]}\n",
    "import pandas as pd\n",
    "grid_dtree = GridSearchCV(dtree, param_grid=parameters, cv=3, refit=True)\n",
    "# 붓꽃 Train 데이터로 param_grid의 하이퍼 파라미터들을 순차적으로 학습/평가\n",
    "grid_dtree.fit(X_train, y_train)\n",
    "# GridSearchCV 결과 추출하여 DataFrame으로 변환\n",
    "scores_df = pd.DataFrame(grid_dtree.cv_results_)\n",
    "scores_df[['params', 'mean_test_score', 'rank_test_score',\\\n",
    "    'split0_test_score', 'split1_test_score', 'split2_test_score']]"
   ]
  },
  {
   "cell_type": "code",
   "execution_count": 89,
   "id": "b0327241",
   "metadata": {
    "ExecuteTime": {
     "end_time": "2022-09-29T07:48:43.081267Z",
     "start_time": "2022-09-29T07:48:43.055337Z"
    }
   },
   "outputs": [
    {
     "data": {
      "text/html": [
       "<style>#sk-container-id-2 {color: black;background-color: white;}#sk-container-id-2 pre{padding: 0;}#sk-container-id-2 div.sk-toggleable {background-color: white;}#sk-container-id-2 label.sk-toggleable__label {cursor: pointer;display: block;width: 100%;margin-bottom: 0;padding: 0.3em;box-sizing: border-box;text-align: center;}#sk-container-id-2 label.sk-toggleable__label-arrow:before {content: \"▸\";float: left;margin-right: 0.25em;color: #696969;}#sk-container-id-2 label.sk-toggleable__label-arrow:hover:before {color: black;}#sk-container-id-2 div.sk-estimator:hover label.sk-toggleable__label-arrow:before {color: black;}#sk-container-id-2 div.sk-toggleable__content {max-height: 0;max-width: 0;overflow: hidden;text-align: left;background-color: #f0f8ff;}#sk-container-id-2 div.sk-toggleable__content pre {margin: 0.2em;color: black;border-radius: 0.25em;background-color: #f0f8ff;}#sk-container-id-2 input.sk-toggleable__control:checked~div.sk-toggleable__content {max-height: 200px;max-width: 100%;overflow: auto;}#sk-container-id-2 input.sk-toggleable__control:checked~label.sk-toggleable__label-arrow:before {content: \"▾\";}#sk-container-id-2 div.sk-estimator input.sk-toggleable__control:checked~label.sk-toggleable__label {background-color: #d4ebff;}#sk-container-id-2 div.sk-label input.sk-toggleable__control:checked~label.sk-toggleable__label {background-color: #d4ebff;}#sk-container-id-2 input.sk-hidden--visually {border: 0;clip: rect(1px 1px 1px 1px);clip: rect(1px, 1px, 1px, 1px);height: 1px;margin: -1px;overflow: hidden;padding: 0;position: absolute;width: 1px;}#sk-container-id-2 div.sk-estimator {font-family: monospace;background-color: #f0f8ff;border: 1px dotted black;border-radius: 0.25em;box-sizing: border-box;margin-bottom: 0.5em;}#sk-container-id-2 div.sk-estimator:hover {background-color: #d4ebff;}#sk-container-id-2 div.sk-parallel-item::after {content: \"\";width: 100%;border-bottom: 1px solid gray;flex-grow: 1;}#sk-container-id-2 div.sk-label:hover label.sk-toggleable__label {background-color: #d4ebff;}#sk-container-id-2 div.sk-serial::before {content: \"\";position: absolute;border-left: 1px solid gray;box-sizing: border-box;top: 0;bottom: 0;left: 50%;z-index: 0;}#sk-container-id-2 div.sk-serial {display: flex;flex-direction: column;align-items: center;background-color: white;padding-right: 0.2em;padding-left: 0.2em;position: relative;}#sk-container-id-2 div.sk-item {position: relative;z-index: 1;}#sk-container-id-2 div.sk-parallel {display: flex;align-items: stretch;justify-content: center;background-color: white;position: relative;}#sk-container-id-2 div.sk-item::before, #sk-container-id-2 div.sk-parallel-item::before {content: \"\";position: absolute;border-left: 1px solid gray;box-sizing: border-box;top: 0;bottom: 0;left: 50%;z-index: -1;}#sk-container-id-2 div.sk-parallel-item {display: flex;flex-direction: column;z-index: 1;position: relative;background-color: white;}#sk-container-id-2 div.sk-parallel-item:first-child::after {align-self: flex-end;width: 50%;}#sk-container-id-2 div.sk-parallel-item:last-child::after {align-self: flex-start;width: 50%;}#sk-container-id-2 div.sk-parallel-item:only-child::after {width: 0;}#sk-container-id-2 div.sk-dashed-wrapped {border: 1px dashed gray;margin: 0 0.4em 0.5em 0.4em;box-sizing: border-box;padding-bottom: 0.4em;background-color: white;}#sk-container-id-2 div.sk-label label {font-family: monospace;font-weight: bold;display: inline-block;line-height: 1.2em;}#sk-container-id-2 div.sk-label-container {text-align: center;}#sk-container-id-2 div.sk-container {/* jupyter's `normalize.less` sets `[hidden] { display: none; }` but bootstrap.min.css set `[hidden] { display: none !important; }` so we also need the `!important` here to be able to override the default hidden behavior on the sphinx rendered scikit-learn.org. See: https://github.com/scikit-learn/scikit-learn/issues/21755 */display: inline-block !important;position: relative;}#sk-container-id-2 div.sk-text-repr-fallback {display: none;}</style><div id=\"sk-container-id-2\" class=\"sk-top-container\"><div class=\"sk-text-repr-fallback\"><pre>DecisionTreeClassifier(max_depth=3)</pre><b>In a Jupyter environment, please rerun this cell to show the HTML representation or trust the notebook. <br />On GitHub, the HTML representation is unable to render, please try loading this page with nbviewer.org.</b></div><div class=\"sk-container\" hidden><div class=\"sk-item\"><div class=\"sk-estimator sk-toggleable\"><input class=\"sk-toggleable__control sk-hidden--visually\" id=\"sk-estimator-id-2\" type=\"checkbox\" checked><label for=\"sk-estimator-id-2\" class=\"sk-toggleable__label sk-toggleable__label-arrow\">DecisionTreeClassifier</label><div class=\"sk-toggleable__content\"><pre>DecisionTreeClassifier(max_depth=3)</pre></div></div></div></div></div>"
      ],
      "text/plain": [
       "DecisionTreeClassifier(max_depth=3)"
      ]
     },
     "execution_count": 89,
     "metadata": {},
     "output_type": "execute_result"
    }
   ],
   "source": [
    "grid_dtree.best_estimator_"
   ]
  },
  {
   "cell_type": "code",
   "execution_count": 90,
   "id": "8bff6b0e",
   "metadata": {
    "ExecuteTime": {
     "end_time": "2022-09-29T07:48:43.114181Z",
     "start_time": "2022-09-29T07:48:43.096227Z"
    }
   },
   "outputs": [
    {
     "data": {
      "text/plain": [
       "{'max_depth': 3, 'min_samples_split': 2}"
      ]
     },
     "execution_count": 90,
     "metadata": {},
     "output_type": "execute_result"
    }
   ],
   "source": [
    "grid_dtree.best_params_"
   ]
  },
  {
   "cell_type": "code",
   "execution_count": 91,
   "id": "27c64840",
   "metadata": {
    "ExecuteTime": {
     "end_time": "2022-09-29T07:48:43.144099Z",
     "start_time": "2022-09-29T07:48:43.123155Z"
    }
   },
   "outputs": [
    {
     "name": "stdout",
     "output_type": "stream",
     "text": [
      "테스트 데이터 세트 정확도 : 0.9667\n"
     ]
    }
   ],
   "source": [
    "# GridSearchCV의 refit으로 이미 학습이 된 estimator 반환\n",
    "estimator = grid_dtree.best_estimator_\n",
    "# GridSearchCV의 best_estimator_는 이미 최적 하이퍼 파라미터로 학습이 됨\n",
    "pred = estimator.predict(X_test)\n",
    "print('테스트 데이터 세트 정확도 : {0:.4f}'.format(accuracy_score(y_test, pred)))"
   ]
  },
  {
   "cell_type": "markdown",
   "id": "d2725659",
   "metadata": {},
   "source": [
    "#### sklearn.datasets.make_classification\n",
    "* sklearn.datasets.make_classification(n_samples=100, n_features=20, *, n_informative=2, n_redundant=2, n_repeated=0, n_classes=2, n_clusters_per_class=2, weights=None, flip_y=0.01, class_sep=1.0, hypercube=True, shift=0.0, scale=1.0, shuffle=True, random_state=None)"
   ]
  },
  {
   "cell_type": "code",
   "execution_count": 94,
   "id": "f7b9b288",
   "metadata": {
    "ExecuteTime": {
     "end_time": "2022-09-29T07:55:55.918641Z",
     "start_time": "2022-09-29T07:55:55.584014Z"
    }
   },
   "outputs": [
    {
     "name": "stdout",
     "output_type": "stream",
     "text": [
      "300\n",
      "[1 2 2 2 2 1 1 1 2 1 1 2 1 1 1 1 0 1 2 2 0 2 1 0 2 0 2 0 0 1 1 0 0 0 1 1 0\n",
      " 0 0 1 1 2 1 0 2 1 0 0 1 2 0 1 2 0 1 2 1 1 2 2 2 0 1 2 1 2 0 1 1 1 2 1 1 0\n",
      " 0 0 2 2 0 1 0 2 1 0 0 2 1 2 2 1 2 1 0 2 0 2 0 0 2 0 1 2 1 0 2 0 0 0 2 1 2\n",
      " 1 2 1 0 2 2 2 1 2 2 0 1 1 0 0 2 1 0 1 0 1 1 0 1 2 0 2 0 2 1 1 1 2 1 1 2 1\n",
      " 2 0 0 2 1 1 1 2 1 1 2 2 0 1 0 2 0 2 1 2 0 1 0 1 1 0 2 1 0 1 2 0 2 1 0 0 0\n",
      " 2 0 1 0 1 2 2 2 1 2 0 0 0 2 2 0 1 1 1 1 0 2 1 2 2 2 0 1 0 2 0 0 0 1 0 1 2\n",
      " 0 0 2 0 2 2 2 0 0 1 1 0 2 2 0 2 1 0 2 1 0 2 2 0 0 1 1 0 1 1 2 0 0 2 1 2 0\n",
      " 0 2 1 2 1 1 0 1 1 2 0 0 0 1 2 2 1 0 2 1 0 1 0 2 0 0 0 1 2 0 0 2 0 2 2 2 2\n",
      " 2 1 2 0]\n",
      "[[ 1.44376956  0.33838381]\n",
      " [-0.97372858 -1.15643418]\n",
      " [-0.8084432  -1.17345151]\n",
      " [-0.98852958 -0.8140137 ]\n",
      " [-1.00194335 -1.17539771]\n",
      " [ 0.48908494  2.90355527]\n",
      " [ 0.29005246  1.32068778]\n",
      " [ 0.60959554  0.5789389 ]\n",
      " [-1.33804333 -0.66975591]\n",
      " [ 2.61511115  0.29713169]\n",
      " [-0.09384868  2.10927158]\n",
      " [-0.76723702 -2.61297156]\n",
      " [ 1.91996933  0.05862907]\n",
      " [ 0.41980661 -0.29133645]\n",
      " [ 0.26861071  2.04652145]\n",
      " [ 0.41715428  1.26076831]\n",
      " [-1.28378623  0.74058464]\n",
      " [ 2.17316164  1.00242302]\n",
      " [-0.84217238 -1.97381881]\n",
      " [-1.27987526 -0.71191521]\n",
      " [-0.46963464  1.2865051 ]\n",
      " [-0.57156791 -0.60899893]\n",
      " [ 1.1989128  -0.61774589]\n",
      " [-0.44258537  1.39445338]\n",
      " [-1.11378828  0.32548967]\n",
      " [ 0.09752664  1.39414254]\n",
      " [-1.10277128 -0.57437746]\n",
      " [-0.40884567  1.12358354]\n",
      " [-1.41622254  0.90580958]\n",
      " [ 0.11162281  1.23770966]\n",
      " [ 0.33858252  0.61427684]\n",
      " [-0.55065403  1.37291688]\n",
      " [-1.96025564  0.63151213]\n",
      " [-0.91424743  0.9889955 ]\n",
      " [ 0.85717703  0.66598996]\n",
      " [ 0.41608686  0.64939774]\n",
      " [-1.55042626  0.7288915 ]\n",
      " [-1.46202029  0.83469961]\n",
      " [-1.20917008  0.82787806]\n",
      " [ 1.25705301  0.40459972]\n",
      " [-0.36440247  2.42717743]\n",
      " [-0.87095482 -3.00468   ]\n",
      " [ 0.2863967   1.4958332 ]\n",
      " [-1.65580986  0.56811368]\n",
      " [-1.01807212 -2.12231857]\n",
      " [ 1.20122186  0.5102789 ]\n",
      " [-1.08874532  0.9813983 ]\n",
      " [-1.28288822  0.84886703]\n",
      " [ 1.49803605  1.23743184]\n",
      " [-0.95512887 -0.44414636]\n",
      " [-1.8546842   0.45607439]\n",
      " [ 0.1980065   1.55139327]\n",
      " [-1.08303357 -0.13313242]\n",
      " [-1.52293804  0.89731975]\n",
      " [ 1.04008213 -1.23969321]\n",
      " [-1.21306535 -0.19493964]\n",
      " [ 0.82175007  0.03092509]\n",
      " [ 1.18425664 -1.25293391]\n",
      " [-0.8922031  -1.6139022 ]\n",
      " [-0.91198729 -1.43862561]\n",
      " [-1.15359696 -0.20988006]\n",
      " [-2.05654971  0.53798312]\n",
      " [ 1.28106343  1.35713128]\n",
      " [-0.68982838 -2.78319232]\n",
      " [ 2.28108894  0.65904948]\n",
      " [-1.06700867  0.90580732]\n",
      " [-0.9015986   1.00738561]\n",
      " [ 0.07372452  2.96178297]\n",
      " [-0.46794041  0.85621084]\n",
      " [ 0.93566098  1.10229527]\n",
      " [-1.28530645 -0.94347951]\n",
      " [-0.71092092  1.18850762]\n",
      " [ 1.49256118  1.04735243]\n",
      " [-0.86430478  0.94712927]\n",
      " [-1.70790162  0.67918421]\n",
      " [-1.03403836  0.89430933]\n",
      " [-0.75506184 -1.23163042]\n",
      " [-1.11428107 -1.17339304]\n",
      " [-1.63579119  0.56199185]\n",
      " [ 0.24035548  1.26799136]\n",
      " [-0.55737402  1.14879039]\n",
      " [-0.99062229  0.52444212]\n",
      " [ 1.00094483 -0.50063037]\n",
      " [-1.32382414  0.74093465]\n",
      " [-0.10222218  1.54737883]\n",
      " [-1.1223929  -0.3535725 ]\n",
      " [-0.23385973  2.09182164]\n",
      " [-1.16724238 -0.91566184]\n",
      " [-0.92876482 -1.75296199]\n",
      " [ 1.80884131  1.09716665]\n",
      " [-0.82993669 -1.46439135]\n",
      " [ 0.54081915  2.03520692]\n",
      " [-1.6682347   0.89150957]\n",
      " [-0.88796498 -1.86047376]\n",
      " [-1.53266063  0.946352  ]\n",
      " [-0.79646118 -1.9304773 ]\n",
      " [-1.15144276  0.98510967]\n",
      " [-0.24435993  1.23344378]\n",
      " [-0.76864824 -1.60324795]\n",
      " [-1.09109367  1.04696337]\n",
      " [ 0.70070332  1.52743908]\n",
      " [-0.95107473 -1.09857216]\n",
      " [ 0.52200194  1.50586293]\n",
      " [-0.12419117  1.31298061]\n",
      " [-0.91239555 -1.43539706]\n",
      " [-1.11944142  1.12447607]\n",
      " [-0.9676836   0.9714643 ]\n",
      " [-1.50813706  0.64188094]\n",
      " [-0.86743747 -1.91348053]\n",
      " [ 2.27258977  0.31859298]\n",
      " [-1.01928017 -0.35713138]\n",
      " [-0.20869463  1.52661379]\n",
      " [-0.93345976 -1.10540672]\n",
      " [ 2.06258058  1.07331839]\n",
      " [-1.16769088  0.94162406]\n",
      " [-1.04472338 -1.40991094]\n",
      " [-0.94546847 -0.79649734]\n",
      " [-0.67499571 -1.35805383]\n",
      " [ 1.53443906  1.04504267]\n",
      " [-0.94872457 -1.82942894]\n",
      " [-1.13296272 -0.66982712]\n",
      " [-0.18504421  1.37062313]\n",
      " [ 3.26130594  1.16345766]\n",
      " [ 0.7424801   0.12244704]\n",
      " [-1.40036062  0.86632218]\n",
      " [ 0.00487544  1.56718781]\n",
      " [-1.33351595  0.31636372]\n",
      " [ 0.67070552  1.39925133]\n",
      " [-0.11634798  1.34526139]\n",
      " [ 1.39232013  0.45364311]\n",
      " [-0.75537866  1.10031656]\n",
      " [ 1.36658634  0.22464058]\n",
      " [ 0.78567861  1.90058635]\n",
      " [-0.54630193  0.98841618]\n",
      " [ 0.91291025  0.45925858]\n",
      " [-1.12431789  0.49603265]\n",
      " [-0.99614568  0.91383076]\n",
      " [-1.04096203 -2.06337394]\n",
      " [-1.06062782  0.86117518]\n",
      " [-1.15853211 -0.96458767]\n",
      " [ 1.577455    0.27081135]\n",
      " [ 1.68632398 -0.5292148 ]\n",
      " [ 1.13518271  1.24260338]\n",
      " [-1.35657558  0.52321827]\n",
      " [ 1.21071957  0.66369541]\n",
      " [ 0.19554319  1.26348874]\n",
      " [-1.00269542 -0.95901254]\n",
      " [ 1.04140649  2.13892135]\n",
      " [-0.91899785 -2.0702313 ]\n",
      " [-1.37747201  0.80551764]\n",
      " [-1.78603356  0.56450387]\n",
      " [-0.88832475 -1.2960694 ]\n",
      " [ 1.08605384  1.33492805]\n",
      " [ 1.88654963  1.77728997]\n",
      " [ 0.8955827   0.23541834]\n",
      " [-0.90222192 -1.45481743]\n",
      " [ 1.76824053  0.79822198]\n",
      " [ 0.88074117  0.94113001]\n",
      " [-0.69364814 -3.14247675]\n",
      " [-1.02117984  0.18452059]\n",
      " [-1.3890013   0.95399066]\n",
      " [ 0.35774719  0.97340959]\n",
      " [-1.92988304  0.52111036]\n",
      " [-0.78691881 -0.81994022]\n",
      " [-1.26958549  0.71980244]\n",
      " [-0.92164863 -1.78581806]\n",
      " [ 0.07221512  1.40982684]\n",
      " [-0.80367286 -1.97504707]\n",
      " [-0.65510814  1.17271864]\n",
      " [ 1.79853548  0.76950036]\n",
      " [-0.3928644   1.17590476]\n",
      " [-0.07902284  1.28930785]\n",
      " [ 1.18879755  1.21667016]\n",
      " [-0.43045687  1.12787324]\n",
      " [-0.93918451 -1.90486947]\n",
      " [-1.70910765  3.98835284]\n",
      " [-1.11158159  1.1278808 ]\n",
      " [ 1.65440407  0.09975175]\n",
      " [-1.01902804 -0.56365444]\n",
      " [-1.43605379  0.77381537]\n",
      " [-0.99636199  0.09635597]\n",
      " [ 0.42770574 -0.33609051]\n",
      " [-1.19654165  0.85580155]\n",
      " [-1.14812139  1.02169244]\n",
      " [-1.19386559  0.91389287]\n",
      " [-1.35295368  0.4471776 ]\n",
      " [-0.41592767  1.30722819]\n",
      " [ 0.9219589   0.79364566]\n",
      " [-1.73059035  0.85606808]\n",
      " [ 0.85905655  0.53608659]\n",
      " [-0.75008324 -1.20411037]\n",
      " [-1.11535125 -0.08149612]\n",
      " [-0.82456615 -1.00397146]\n",
      " [ 1.28340724  0.44825074]\n",
      " [-0.97088831 -1.76449349]\n",
      " [-0.7926603   0.96029377]\n",
      " [-1.95087306  0.58547235]\n",
      " [-1.46860229  0.89033879]\n",
      " [-0.78968659  0.16162895]\n",
      " [-1.07150063 -1.30674556]\n",
      " [-1.97719947  0.46501702]\n",
      " [ 0.45022537  0.88056715]\n",
      " [ 1.39359014  0.42343194]\n",
      " [ 0.40835124  1.96477021]\n",
      " [ 2.38910903  1.22596137]\n",
      " [-0.62502084  1.14892009]\n",
      " [-1.01203555 -1.66915249]\n",
      " [ 0.79817688  1.36172301]\n",
      " [-1.35167495 -1.22275584]\n",
      " [-0.70672253 -1.54897178]\n",
      " [-0.97063603 -1.82205397]\n",
      " [-1.36078919  0.70718294]\n",
      " [ 1.15400242  0.41205882]\n",
      " [-0.76842291  1.10590023]\n",
      " [-1.26845145 -0.14226065]\n",
      " [-0.20540197  1.38686531]\n",
      " [-0.77432432  1.0818131 ]\n",
      " [-0.82138138  0.99792806]\n",
      " [ 1.61443833  0.99221459]\n",
      " [-1.12362349  0.79210748]\n",
      " [ 1.26402484  0.32378353]\n",
      " [-1.04845531 -1.29026121]\n",
      " [-1.63567437  0.90481714]\n",
      " [-0.64242243  1.06542265]\n",
      " [-1.26332287 -1.4976461 ]\n",
      " [-1.2841214   0.73891885]\n",
      " [-1.0013148  -1.96179456]\n",
      " [-0.77477566 -2.17631349]\n",
      " [-0.92749116 -0.83589559]\n",
      " [-0.01801035  1.227484  ]\n",
      " [-0.80339911  0.87289106]\n",
      " [-0.33121846  1.33579487]\n",
      " [ 1.22471355  1.40222226]\n",
      " [-0.81999097  1.12736959]\n",
      " [-1.10937668  0.79912287]\n",
      " [-1.00521664 -1.84563877]\n",
      " [-0.58154441  1.11017417]\n",
      " [-1.31971847 -0.18288974]\n",
      " [ 0.92230716  1.77591262]\n",
      " [-0.8084734   1.25693966]\n",
      " [-0.78560685 -0.54586986]\n",
      " [ 0.7132969   0.25274521]\n",
      " [-1.48925955  0.73667101]\n",
      " [-0.79585457 -2.14717856]\n",
      " [-1.03314832 -1.65542732]\n",
      " [-1.0046367   1.14559843]\n",
      " [-1.83406585  0.33068901]\n",
      " [ 0.98825109  2.63466691]\n",
      " [ 0.75153128  1.87592359]\n",
      " [-1.0571494   1.10337977]\n",
      " [ 0.67610573  0.6046654 ]\n",
      " [ 1.10038852 -0.67205931]\n",
      " [-1.27603725 -0.21905449]\n",
      " [-0.58236592  1.14016958]\n",
      " [-1.07767695  0.99902313]\n",
      " [-0.88769919 -1.73546804]\n",
      " [-0.13426901  0.78599669]\n",
      " [-1.27510127 -0.63424776]\n",
      " [-1.00675159  1.05858252]\n",
      " [-0.95814883  0.96850254]\n",
      " [-0.92882478 -1.2608288 ]\n",
      " [ 1.25297062  1.45281216]\n",
      " [-0.78820004 -1.66198491]\n",
      " [ 1.13271836  1.67910729]\n",
      " [ 1.19295314  1.68039428]\n",
      " [-0.47580896  1.17687334]\n",
      " [ 1.65180679  0.61286655]\n",
      " [-0.00652451  1.75146346]\n",
      " [-1.11231731 -0.82834147]\n",
      " [-1.32933237  0.76362687]\n",
      " [-1.46961534  0.75137151]\n",
      " [-0.06132319  1.15772406]\n",
      " [ 1.46647348  1.15084992]\n",
      " [-0.78832979 -1.71561326]\n",
      " [-1.02818914 -1.60412903]\n",
      " [ 0.57285231  1.45625071]\n",
      " [-0.00734542  1.51138074]\n",
      " [-1.09945752 -0.304688  ]\n",
      " [ 1.41725752  0.66149518]\n",
      " [ 0.10793093  1.35283897]\n",
      " [ 1.19300909  0.76990774]\n",
      " [-0.92644166  1.27621558]\n",
      " [-0.9517675  -1.44148782]\n",
      " [-0.60854752  1.22310885]\n",
      " [-1.41773853  0.91876651]\n",
      " [-1.94742516  0.62298932]\n",
      " [ 1.64785496  0.18690119]\n",
      " [-1.04239013 -2.58959235]\n",
      " [-1.74024914  0.764254  ]\n",
      " [-0.91553635  1.06634394]\n",
      " [-1.15387364 -0.35816503]\n",
      " [-1.38459277  0.82938329]\n",
      " [-0.99014901 -2.46323526]\n",
      " [-1.0405297  -0.34753143]\n",
      " [-1.28338976 -0.49943446]\n",
      " [-0.62350196 -2.55754263]\n",
      " [-1.20270461 -0.3536301 ]\n",
      " [ 0.67318518  1.71729742]\n",
      " [-1.02565265 -1.83930324]\n",
      " [-1.65557349  0.67198677]]\n"
     ]
    },
    {
     "data": {
      "text/plain": [
       "<matplotlib.collections.PathCollection at 0x1b34061e2c0>"
      ]
     },
     "execution_count": 94,
     "metadata": {},
     "output_type": "execute_result"
    },
    {
     "name": "stderr",
     "output_type": "stream",
     "text": [
      "C:\\Users\\cmjid\\AppData\\Local\\Programs\\Python\\Python310\\lib\\site-packages\\IPython\\core\\events.py:89: UserWarning: Glyph 45796 (\\N{HANGUL SYLLABLE DA}) missing from current font.\n",
      "  func(*args, **kwargs)\n",
      "C:\\Users\\cmjid\\AppData\\Local\\Programs\\Python\\Python310\\lib\\site-packages\\IPython\\core\\events.py:89: UserWarning: Glyph 51473 (\\N{HANGUL SYLLABLE JUNG}) missing from current font.\n",
      "  func(*args, **kwargs)\n",
      "C:\\Users\\cmjid\\AppData\\Local\\Programs\\Python\\Python310\\lib\\site-packages\\IPython\\core\\events.py:89: UserWarning: Glyph 53364 (\\N{HANGUL SYLLABLE KEUL}) missing from current font.\n",
      "  func(*args, **kwargs)\n",
      "C:\\Users\\cmjid\\AppData\\Local\\Programs\\Python\\Python310\\lib\\site-packages\\IPython\\core\\events.py:89: UserWarning: Glyph 47000 (\\N{HANGUL SYLLABLE RAE}) missing from current font.\n",
      "  func(*args, **kwargs)\n",
      "C:\\Users\\cmjid\\AppData\\Local\\Programs\\Python\\Python310\\lib\\site-packages\\IPython\\core\\events.py:89: UserWarning: Glyph 49828 (\\N{HANGUL SYLLABLE SEU}) missing from current font.\n",
      "  func(*args, **kwargs)\n",
      "C:\\Users\\cmjid\\AppData\\Local\\Programs\\Python\\Python310\\lib\\site-packages\\IPython\\core\\pylabtools.py:151: UserWarning: Glyph 45796 (\\N{HANGUL SYLLABLE DA}) missing from current font.\n",
      "  fig.canvas.print_figure(bytes_io, **kw)\n",
      "C:\\Users\\cmjid\\AppData\\Local\\Programs\\Python\\Python310\\lib\\site-packages\\IPython\\core\\pylabtools.py:151: UserWarning: Glyph 51473 (\\N{HANGUL SYLLABLE JUNG}) missing from current font.\n",
      "  fig.canvas.print_figure(bytes_io, **kw)\n",
      "C:\\Users\\cmjid\\AppData\\Local\\Programs\\Python\\Python310\\lib\\site-packages\\IPython\\core\\pylabtools.py:151: UserWarning: Glyph 53364 (\\N{HANGUL SYLLABLE KEUL}) missing from current font.\n",
      "  fig.canvas.print_figure(bytes_io, **kw)\n",
      "C:\\Users\\cmjid\\AppData\\Local\\Programs\\Python\\Python310\\lib\\site-packages\\IPython\\core\\pylabtools.py:151: UserWarning: Glyph 47000 (\\N{HANGUL SYLLABLE RAE}) missing from current font.\n",
      "  fig.canvas.print_figure(bytes_io, **kw)\n",
      "C:\\Users\\cmjid\\AppData\\Local\\Programs\\Python\\Python310\\lib\\site-packages\\IPython\\core\\pylabtools.py:151: UserWarning: Glyph 49828 (\\N{HANGUL SYLLABLE SEU}) missing from current font.\n",
      "  fig.canvas.print_figure(bytes_io, **kw)\n"
     ]
    },
    {
     "data": {
      "image/png": "[encoded data removed]",
      "text/plain": [
       "<Figure size 640x480 with 1 Axes>"
      ]
     },
     "metadata": {},
     "output_type": "display_data"
    }
   ],
   "source": [
    "import matplotlib.pyplot as plt\n",
    "from sklearn.datasets import make_classification\n",
    "\n",
    "plt.title(\"다중 클래스\")\n",
    "#flip_y 매개변수를 이용한 노이즈 추가\n",
    "X, y = make_classification(n_samples=300,\n",
    "                           n_features=2, \n",
    "                           n_informative=2,\n",
    "                           n_redundant=0, \n",
    "                           n_clusters_per_class=1, \n",
    "                           random_state=42,\n",
    "                           n_classes=3\n",
    "                          )\n",
    "print(len(X))\n",
    "print(y)\n",
    "print(X)\n",
    "plt.scatter(X[:, 0], X[:, 1], marker='v', c=y,\n",
    "            s=200, edgecolor=\"k\",)\n",
    "\n"
   ]
  },
  {
   "cell_type": "code",
   "execution_count": 96,
   "id": "68fac054",
   "metadata": {
    "ExecuteTime": {
     "end_time": "2022-09-29T07:58:52.404682Z",
     "start_time": "2022-09-29T07:58:52.293951Z"
    }
   },
   "outputs": [
    {
     "data": {
      "text/html": [
       "<div>\n",
       "<style scoped>\n",
       "    .dataframe tbody tr th:only-of-type {\n",
       "        vertical-align: middle;\n",
       "    }\n",
       "\n",
       "    .dataframe tbody tr th {\n",
       "        vertical-align: top;\n",
       "    }\n",
       "\n",
       "    .dataframe thead th {\n",
       "        text-align: right;\n",
       "    }\n",
       "</style>\n",
       "<table border=\"1\" class=\"dataframe\">\n",
       "  <thead>\n",
       "    <tr style=\"text-align: right;\">\n",
       "      <th></th>\n",
       "      <th>params</th>\n",
       "      <th>mean_test_score</th>\n",
       "      <th>rank_test_score</th>\n",
       "      <th>split0_test_score</th>\n",
       "      <th>split1_test_score</th>\n",
       "      <th>split2_test_score</th>\n",
       "    </tr>\n",
       "  </thead>\n",
       "  <tbody>\n",
       "    <tr>\n",
       "      <th>0</th>\n",
       "      <td>{'max_depth': 1, 'min_samples_split': 2}</td>\n",
       "      <td>0.625000</td>\n",
       "      <td>5</td>\n",
       "      <td>0.6125</td>\n",
       "      <td>0.625</td>\n",
       "      <td>0.6375</td>\n",
       "    </tr>\n",
       "    <tr>\n",
       "      <th>1</th>\n",
       "      <td>{'max_depth': 1, 'min_samples_split': 3}</td>\n",
       "      <td>0.625000</td>\n",
       "      <td>5</td>\n",
       "      <td>0.6125</td>\n",
       "      <td>0.625</td>\n",
       "      <td>0.6375</td>\n",
       "    </tr>\n",
       "    <tr>\n",
       "      <th>2</th>\n",
       "      <td>{'max_depth': 2, 'min_samples_split': 2}</td>\n",
       "      <td>0.891667</td>\n",
       "      <td>3</td>\n",
       "      <td>0.8875</td>\n",
       "      <td>0.875</td>\n",
       "      <td>0.9125</td>\n",
       "    </tr>\n",
       "    <tr>\n",
       "      <th>3</th>\n",
       "      <td>{'max_depth': 2, 'min_samples_split': 3}</td>\n",
       "      <td>0.891667</td>\n",
       "      <td>3</td>\n",
       "      <td>0.8875</td>\n",
       "      <td>0.875</td>\n",
       "      <td>0.9125</td>\n",
       "    </tr>\n",
       "    <tr>\n",
       "      <th>4</th>\n",
       "      <td>{'max_depth': 3, 'min_samples_split': 2}</td>\n",
       "      <td>0.912500</td>\n",
       "      <td>1</td>\n",
       "      <td>0.9000</td>\n",
       "      <td>0.875</td>\n",
       "      <td>0.9625</td>\n",
       "    </tr>\n",
       "    <tr>\n",
       "      <th>5</th>\n",
       "      <td>{'max_depth': 3, 'min_samples_split': 3}</td>\n",
       "      <td>0.912500</td>\n",
       "      <td>1</td>\n",
       "      <td>0.9000</td>\n",
       "      <td>0.875</td>\n",
       "      <td>0.9625</td>\n",
       "    </tr>\n",
       "  </tbody>\n",
       "</table>\n",
       "</div>"
      ],
      "text/plain": [
       "                                     params  mean_test_score  rank_test_score  \\\n",
       "0  {'max_depth': 1, 'min_samples_split': 2}         0.625000                5   \n",
       "1  {'max_depth': 1, 'min_samples_split': 3}         0.625000                5   \n",
       "2  {'max_depth': 2, 'min_samples_split': 2}         0.891667                3   \n",
       "3  {'max_depth': 2, 'min_samples_split': 3}         0.891667                3   \n",
       "4  {'max_depth': 3, 'min_samples_split': 2}         0.912500                1   \n",
       "5  {'max_depth': 3, 'min_samples_split': 3}         0.912500                1   \n",
       "\n",
       "   split0_test_score  split1_test_score  split2_test_score  \n",
       "0             0.6125              0.625             0.6375  \n",
       "1             0.6125              0.625             0.6375  \n",
       "2             0.8875              0.875             0.9125  \n",
       "3             0.8875              0.875             0.9125  \n",
       "4             0.9000              0.875             0.9625  \n",
       "5             0.9000              0.875             0.9625  "
      ]
     },
     "execution_count": 96,
     "metadata": {},
     "output_type": "execute_result"
    }
   ],
   "source": [
    "from sklearn.tree import DecisionTreeClassifier\n",
    "from sklearn.model_selection import GridSearchCV\n",
    "from sklearn.datasets import load_iris\n",
    "# 데이터를 로딩하고 학습데이터와 테스트 데이터 분리\n",
    "\n",
    "X_train, X_test, y_train, y_test = train_test_split(X, y, test_size=0.2, random_state=121)\n",
    "\n",
    "dtree = DecisionTreeClassifier()\n",
    "## parameter들을 dictionary형태로 설정\n",
    "parameters = {'max_depth' : [1,2,3], 'min_samples_split' : [2,3]}\n",
    "import pandas as pd\n",
    "grid_dtree = GridSearchCV(dtree, param_grid=parameters, cv=3, refit=True)\n",
    "# 붓꽃 Train 데이터로 param_grid의 하이퍼 파라미터들을 순차적으로 학습/평가\n",
    "grid_dtree.fit(X_train, y_train)\n",
    "# GridSearchCV 결과 추출하여 DataFrame으로 변환\n",
    "scores_df = pd.DataFrame(grid_dtree.cv_results_)\n",
    "scores_df[['params', 'mean_test_score', 'rank_test_score',\\\n",
    "    'split0_test_score', 'split1_test_score', 'split2_test_score']]"
   ]
  },
  {
   "cell_type": "code",
   "execution_count": 99,
   "id": "0b847656",
   "metadata": {
    "ExecuteTime": {
     "end_time": "2022-09-29T08:00:27.216197Z",
     "start_time": "2022-09-29T08:00:27.198036Z"
    }
   },
   "outputs": [],
   "source": [
    "pred=grid_dtree.predict(X_test)"
   ]
  },
  {
   "cell_type": "code",
   "execution_count": 100,
   "id": "0013d509",
   "metadata": {
    "ExecuteTime": {
     "end_time": "2022-09-29T08:00:32.282225Z",
     "start_time": "2022-09-29T08:00:32.260285Z"
    }
   },
   "outputs": [
    {
     "data": {
      "text/plain": [
       "0.95"
      ]
     },
     "execution_count": 100,
     "metadata": {},
     "output_type": "execute_result"
    }
   ],
   "source": [
    "from sklearn.metrics import accuracy_score\n",
    "\n",
    "accuracy_score(y_test, pred)"
   ]
  },
  {
   "cell_type": "code",
   "execution_count": 107,
   "id": "7d6e8b88",
   "metadata": {
    "ExecuteTime": {
     "end_time": "2022-09-29T08:05:55.341462Z",
     "start_time": "2022-09-29T08:05:55.303562Z"
    }
   },
   "outputs": [
    {
     "data": {
      "text/plain": [
       "dict_keys(['data', 'target', 'frame', 'DESCR', 'feature_names', 'data_filename', 'target_filename', 'data_module'])"
      ]
     },
     "execution_count": 107,
     "metadata": {},
     "output_type": "execute_result"
    }
   ],
   "source": [
    "# Pima Indians Diabetes Database\n",
    "from sklearn.datasets import load_diabetes\n",
    "\n",
    "diabet= load_diabetes()\n",
    "diabet.keys()\n"
   ]
  },
  {
   "cell_type": "code",
   "execution_count": 108,
   "id": "123c9d7b",
   "metadata": {
    "ExecuteTime": {
     "end_time": "2022-09-29T08:06:00.941766Z",
     "start_time": "2022-09-29T08:06:00.919006Z"
    }
   },
   "outputs": [
    {
     "data": {
      "text/plain": [
       "['age', 'sex', 'bmi', 'bp', 's1', 's2', 's3', 's4', 's5', 's6']"
      ]
     },
     "execution_count": 108,
     "metadata": {},
     "output_type": "execute_result"
    }
   ],
   "source": [
    "diabet.feature_names"
   ]
  },
  {
   "cell_type": "code",
   "execution_count": 118,
   "id": "a0959050",
   "metadata": {
    "ExecuteTime": {
     "end_time": "2022-09-29T08:08:06.533221Z",
     "start_time": "2022-09-29T08:08:06.486348Z"
    }
   },
   "outputs": [
    {
     "data": {
      "text/html": [
       "<div>\n",
       "<style scoped>\n",
       "    .dataframe tbody tr th:only-of-type {\n",
       "        vertical-align: middle;\n",
       "    }\n",
       "\n",
       "    .dataframe tbody tr th {\n",
       "        vertical-align: top;\n",
       "    }\n",
       "\n",
       "    .dataframe thead th {\n",
       "        text-align: right;\n",
       "    }\n",
       "</style>\n",
       "<table border=\"1\" class=\"dataframe\">\n",
       "  <thead>\n",
       "    <tr style=\"text-align: right;\">\n",
       "      <th></th>\n",
       "      <th>age</th>\n",
       "      <th>sex</th>\n",
       "      <th>bmi</th>\n",
       "      <th>bp</th>\n",
       "      <th>s1</th>\n",
       "      <th>s2</th>\n",
       "      <th>s3</th>\n",
       "      <th>s4</th>\n",
       "      <th>s5</th>\n",
       "      <th>s6</th>\n",
       "    </tr>\n",
       "  </thead>\n",
       "  <tbody>\n",
       "    <tr>\n",
       "      <th>0</th>\n",
       "      <td>0.038076</td>\n",
       "      <td>0.050680</td>\n",
       "      <td>0.061696</td>\n",
       "      <td>0.021872</td>\n",
       "      <td>-0.044223</td>\n",
       "      <td>-0.034821</td>\n",
       "      <td>-0.043401</td>\n",
       "      <td>-0.002592</td>\n",
       "      <td>0.019907</td>\n",
       "      <td>-0.017646</td>\n",
       "    </tr>\n",
       "    <tr>\n",
       "      <th>1</th>\n",
       "      <td>-0.001882</td>\n",
       "      <td>-0.044642</td>\n",
       "      <td>-0.051474</td>\n",
       "      <td>-0.026328</td>\n",
       "      <td>-0.008449</td>\n",
       "      <td>-0.019163</td>\n",
       "      <td>0.074412</td>\n",
       "      <td>-0.039493</td>\n",
       "      <td>-0.068332</td>\n",
       "      <td>-0.092204</td>\n",
       "    </tr>\n",
       "    <tr>\n",
       "      <th>2</th>\n",
       "      <td>0.085299</td>\n",
       "      <td>0.050680</td>\n",
       "      <td>0.044451</td>\n",
       "      <td>-0.005670</td>\n",
       "      <td>-0.045599</td>\n",
       "      <td>-0.034194</td>\n",
       "      <td>-0.032356</td>\n",
       "      <td>-0.002592</td>\n",
       "      <td>0.002861</td>\n",
       "      <td>-0.025930</td>\n",
       "    </tr>\n",
       "  </tbody>\n",
       "</table>\n",
       "</div>"
      ],
      "text/plain": [
       "        age       sex       bmi        bp        s1        s2        s3  \\\n",
       "0  0.038076  0.050680  0.061696  0.021872 -0.044223 -0.034821 -0.043401   \n",
       "1 -0.001882 -0.044642 -0.051474 -0.026328 -0.008449 -0.019163  0.074412   \n",
       "2  0.085299  0.050680  0.044451 -0.005670 -0.045599 -0.034194 -0.032356   \n",
       "\n",
       "         s4        s5        s6  \n",
       "0 -0.002592  0.019907 -0.017646  \n",
       "1 -0.039493 -0.068332 -0.092204  \n",
       "2 -0.002592  0.002861 -0.025930  "
      ]
     },
     "execution_count": 118,
     "metadata": {},
     "output_type": "execute_result"
    }
   ],
   "source": [
    "import pandas as pd\n",
    "features= diabet.data\n",
    "label= diabet.target\n",
    "\n",
    "diabet_df=pd.DataFrame(features,columns=diabet.feature_names)\n",
    "diabet_df.head(3)"
   ]
  },
  {
   "cell_type": "code",
   "execution_count": 119,
   "id": "9c3708b2",
   "metadata": {
    "ExecuteTime": {
     "end_time": "2022-09-29T08:08:36.327299Z",
     "start_time": "2022-09-29T08:08:36.284522Z"
    }
   },
   "outputs": [
    {
     "data": {
      "text/html": [
       "<div>\n",
       "<style scoped>\n",
       "    .dataframe tbody tr th:only-of-type {\n",
       "        vertical-align: middle;\n",
       "    }\n",
       "\n",
       "    .dataframe tbody tr th {\n",
       "        vertical-align: top;\n",
       "    }\n",
       "\n",
       "    .dataframe thead th {\n",
       "        text-align: right;\n",
       "    }\n",
       "</style>\n",
       "<table border=\"1\" class=\"dataframe\">\n",
       "  <thead>\n",
       "    <tr style=\"text-align: right;\">\n",
       "      <th></th>\n",
       "      <th>age</th>\n",
       "      <th>sex</th>\n",
       "      <th>bmi</th>\n",
       "      <th>bp</th>\n",
       "      <th>s1</th>\n",
       "      <th>s2</th>\n",
       "      <th>s3</th>\n",
       "      <th>s4</th>\n",
       "      <th>s5</th>\n",
       "      <th>s6</th>\n",
       "      <th>label</th>\n",
       "    </tr>\n",
       "  </thead>\n",
       "  <tbody>\n",
       "    <tr>\n",
       "      <th>0</th>\n",
       "      <td>0.038076</td>\n",
       "      <td>0.050680</td>\n",
       "      <td>0.061696</td>\n",
       "      <td>0.021872</td>\n",
       "      <td>-0.044223</td>\n",
       "      <td>-0.034821</td>\n",
       "      <td>-0.043401</td>\n",
       "      <td>-0.002592</td>\n",
       "      <td>0.019907</td>\n",
       "      <td>-0.017646</td>\n",
       "      <td>151.0</td>\n",
       "    </tr>\n",
       "    <tr>\n",
       "      <th>1</th>\n",
       "      <td>-0.001882</td>\n",
       "      <td>-0.044642</td>\n",
       "      <td>-0.051474</td>\n",
       "      <td>-0.026328</td>\n",
       "      <td>-0.008449</td>\n",
       "      <td>-0.019163</td>\n",
       "      <td>0.074412</td>\n",
       "      <td>-0.039493</td>\n",
       "      <td>-0.068332</td>\n",
       "      <td>-0.092204</td>\n",
       "      <td>75.0</td>\n",
       "    </tr>\n",
       "    <tr>\n",
       "      <th>2</th>\n",
       "      <td>0.085299</td>\n",
       "      <td>0.050680</td>\n",
       "      <td>0.044451</td>\n",
       "      <td>-0.005670</td>\n",
       "      <td>-0.045599</td>\n",
       "      <td>-0.034194</td>\n",
       "      <td>-0.032356</td>\n",
       "      <td>-0.002592</td>\n",
       "      <td>0.002861</td>\n",
       "      <td>-0.025930</td>\n",
       "      <td>141.0</td>\n",
       "    </tr>\n",
       "  </tbody>\n",
       "</table>\n",
       "</div>"
      ],
      "text/plain": [
       "        age       sex       bmi        bp        s1        s2        s3  \\\n",
       "0  0.038076  0.050680  0.061696  0.021872 -0.044223 -0.034821 -0.043401   \n",
       "1 -0.001882 -0.044642 -0.051474 -0.026328 -0.008449 -0.019163  0.074412   \n",
       "2  0.085299  0.050680  0.044451 -0.005670 -0.045599 -0.034194 -0.032356   \n",
       "\n",
       "         s4        s5        s6  label  \n",
       "0 -0.002592  0.019907 -0.017646  151.0  \n",
       "1 -0.039493 -0.068332 -0.092204   75.0  \n",
       "2 -0.002592  0.002861 -0.025930  141.0  "
      ]
     },
     "execution_count": 119,
     "metadata": {},
     "output_type": "execute_result"
    }
   ],
   "source": [
    "diabet_df['label']=label\n",
    "diabet_df.head(3)"
   ]
  },
  {
   "cell_type": "code",
   "execution_count": 123,
   "id": "5d88f039",
   "metadata": {
    "ExecuteTime": {
     "end_time": "2022-09-29T08:22:55.893627Z",
     "start_time": "2022-09-29T08:22:55.865843Z"
    }
   },
   "outputs": [
    {
     "data": {
      "text/html": [
       "<div>\n",
       "<style scoped>\n",
       "    .dataframe tbody tr th:only-of-type {\n",
       "        vertical-align: middle;\n",
       "    }\n",
       "\n",
       "    .dataframe tbody tr th {\n",
       "        vertical-align: top;\n",
       "    }\n",
       "\n",
       "    .dataframe thead th {\n",
       "        text-align: right;\n",
       "    }\n",
       "</style>\n",
       "<table border=\"1\" class=\"dataframe\">\n",
       "  <thead>\n",
       "    <tr style=\"text-align: right;\">\n",
       "      <th></th>\n",
       "      <th>Pregnancies</th>\n",
       "      <th>Glucose</th>\n",
       "      <th>BloodPressure</th>\n",
       "      <th>SkinThickness</th>\n",
       "      <th>Insulin</th>\n",
       "      <th>BMI</th>\n",
       "      <th>DiabetesPedigreeFunction</th>\n",
       "      <th>Age</th>\n",
       "      <th>Outcome</th>\n",
       "    </tr>\n",
       "  </thead>\n",
       "  <tbody>\n",
       "    <tr>\n",
       "      <th>0</th>\n",
       "      <td>6</td>\n",
       "      <td>148</td>\n",
       "      <td>72</td>\n",
       "      <td>35</td>\n",
       "      <td>0</td>\n",
       "      <td>33.6</td>\n",
       "      <td>0.627</td>\n",
       "      <td>50</td>\n",
       "      <td>1</td>\n",
       "    </tr>\n",
       "    <tr>\n",
       "      <th>1</th>\n",
       "      <td>1</td>\n",
       "      <td>85</td>\n",
       "      <td>66</td>\n",
       "      <td>29</td>\n",
       "      <td>0</td>\n",
       "      <td>26.6</td>\n",
       "      <td>0.351</td>\n",
       "      <td>31</td>\n",
       "      <td>0</td>\n",
       "    </tr>\n",
       "    <tr>\n",
       "      <th>2</th>\n",
       "      <td>8</td>\n",
       "      <td>183</td>\n",
       "      <td>64</td>\n",
       "      <td>0</td>\n",
       "      <td>0</td>\n",
       "      <td>23.3</td>\n",
       "      <td>0.672</td>\n",
       "      <td>32</td>\n",
       "      <td>1</td>\n",
       "    </tr>\n",
       "  </tbody>\n",
       "</table>\n",
       "</div>"
      ],
      "text/plain": [
       "   Pregnancies  Glucose  BloodPressure  SkinThickness  Insulin   BMI  \\\n",
       "0            6      148             72             35        0  33.6   \n",
       "1            1       85             66             29        0  26.6   \n",
       "2            8      183             64              0        0  23.3   \n",
       "\n",
       "   DiabetesPedigreeFunction  Age  Outcome  \n",
       "0                     0.627   50        1  \n",
       "1                     0.351   31        0  \n",
       "2                     0.672   32        1  "
      ]
     },
     "execution_count": 123,
     "metadata": {},
     "output_type": "execute_result"
    }
   ],
   "source": [
    "import pandas as pd\n",
    "diabet_df= pd.read_csv('./datasets/diabetes.csv')\n",
    "diabet_df.head(3)\n",
    "    "
   ]
  },
  {
   "cell_type": "code",
   "execution_count": 125,
   "id": "f2fc8c4f",
   "metadata": {
    "ExecuteTime": {
     "end_time": "2022-09-29T08:23:11.916491Z",
     "start_time": "2022-09-29T08:23:11.852665Z"
    }
   },
   "outputs": [
    {
     "data": {
      "text/html": [
       "<div>\n",
       "<style scoped>\n",
       "    .dataframe tbody tr th:only-of-type {\n",
       "        vertical-align: middle;\n",
       "    }\n",
       "\n",
       "    .dataframe tbody tr th {\n",
       "        vertical-align: top;\n",
       "    }\n",
       "\n",
       "    .dataframe thead th {\n",
       "        text-align: right;\n",
       "    }\n",
       "</style>\n",
       "<table border=\"1\" class=\"dataframe\">\n",
       "  <thead>\n",
       "    <tr style=\"text-align: right;\">\n",
       "      <th></th>\n",
       "      <th>Pregnancies</th>\n",
       "      <th>Glucose</th>\n",
       "      <th>BloodPressure</th>\n",
       "      <th>SkinThickness</th>\n",
       "      <th>Insulin</th>\n",
       "      <th>BMI</th>\n",
       "      <th>DiabetesPedigreeFunction</th>\n",
       "      <th>Age</th>\n",
       "      <th>Outcome</th>\n",
       "    </tr>\n",
       "  </thead>\n",
       "  <tbody>\n",
       "    <tr>\n",
       "      <th>count</th>\n",
       "      <td>768.000000</td>\n",
       "      <td>768.000000</td>\n",
       "      <td>768.000000</td>\n",
       "      <td>768.000000</td>\n",
       "      <td>768.000000</td>\n",
       "      <td>768.000000</td>\n",
       "      <td>768.000000</td>\n",
       "      <td>768.000000</td>\n",
       "      <td>768.000000</td>\n",
       "    </tr>\n",
       "    <tr>\n",
       "      <th>mean</th>\n",
       "      <td>3.845052</td>\n",
       "      <td>120.894531</td>\n",
       "      <td>69.105469</td>\n",
       "      <td>20.536458</td>\n",
       "      <td>79.799479</td>\n",
       "      <td>31.992578</td>\n",
       "      <td>0.471876</td>\n",
       "      <td>33.240885</td>\n",
       "      <td>0.348958</td>\n",
       "    </tr>\n",
       "    <tr>\n",
       "      <th>std</th>\n",
       "      <td>3.369578</td>\n",
       "      <td>31.972618</td>\n",
       "      <td>19.355807</td>\n",
       "      <td>15.952218</td>\n",
       "      <td>115.244002</td>\n",
       "      <td>7.884160</td>\n",
       "      <td>0.331329</td>\n",
       "      <td>11.760232</td>\n",
       "      <td>0.476951</td>\n",
       "    </tr>\n",
       "    <tr>\n",
       "      <th>min</th>\n",
       "      <td>0.000000</td>\n",
       "      <td>0.000000</td>\n",
       "      <td>0.000000</td>\n",
       "      <td>0.000000</td>\n",
       "      <td>0.000000</td>\n",
       "      <td>0.000000</td>\n",
       "      <td>0.078000</td>\n",
       "      <td>21.000000</td>\n",
       "      <td>0.000000</td>\n",
       "    </tr>\n",
       "    <tr>\n",
       "      <th>25%</th>\n",
       "      <td>1.000000</td>\n",
       "      <td>99.000000</td>\n",
       "      <td>62.000000</td>\n",
       "      <td>0.000000</td>\n",
       "      <td>0.000000</td>\n",
       "      <td>27.300000</td>\n",
       "      <td>0.243750</td>\n",
       "      <td>24.000000</td>\n",
       "      <td>0.000000</td>\n",
       "    </tr>\n",
       "    <tr>\n",
       "      <th>50%</th>\n",
       "      <td>3.000000</td>\n",
       "      <td>117.000000</td>\n",
       "      <td>72.000000</td>\n",
       "      <td>23.000000</td>\n",
       "      <td>30.500000</td>\n",
       "      <td>32.000000</td>\n",
       "      <td>0.372500</td>\n",
       "      <td>29.000000</td>\n",
       "      <td>0.000000</td>\n",
       "    </tr>\n",
       "    <tr>\n",
       "      <th>75%</th>\n",
       "      <td>6.000000</td>\n",
       "      <td>140.250000</td>\n",
       "      <td>80.000000</td>\n",
       "      <td>32.000000</td>\n",
       "      <td>127.250000</td>\n",
       "      <td>36.600000</td>\n",
       "      <td>0.626250</td>\n",
       "      <td>41.000000</td>\n",
       "      <td>1.000000</td>\n",
       "    </tr>\n",
       "    <tr>\n",
       "      <th>max</th>\n",
       "      <td>17.000000</td>\n",
       "      <td>199.000000</td>\n",
       "      <td>122.000000</td>\n",
       "      <td>99.000000</td>\n",
       "      <td>846.000000</td>\n",
       "      <td>67.100000</td>\n",
       "      <td>2.420000</td>\n",
       "      <td>81.000000</td>\n",
       "      <td>1.000000</td>\n",
       "    </tr>\n",
       "  </tbody>\n",
       "</table>\n",
       "</div>"
      ],
      "text/plain": [
       "       Pregnancies     Glucose  BloodPressure  SkinThickness     Insulin  \\\n",
       "count   768.000000  768.000000     768.000000     768.000000  768.000000   \n",
       "mean      3.845052  120.894531      69.105469      20.536458   79.799479   \n",
       "std       3.369578   31.972618      19.355807      15.952218  115.244002   \n",
       "min       0.000000    0.000000       0.000000       0.000000    0.000000   \n",
       "25%       1.000000   99.000000      62.000000       0.000000    0.000000   \n",
       "50%       3.000000  117.000000      72.000000      23.000000   30.500000   \n",
       "75%       6.000000  140.250000      80.000000      32.000000  127.250000   \n",
       "max      17.000000  199.000000     122.000000      99.000000  846.000000   \n",
       "\n",
       "              BMI  DiabetesPedigreeFunction         Age     Outcome  \n",
       "count  768.000000                768.000000  768.000000  768.000000  \n",
       "mean    31.992578                  0.471876   33.240885    0.348958  \n",
       "std      7.884160                  0.331329   11.760232    0.476951  \n",
       "min      0.000000                  0.078000   21.000000    0.000000  \n",
       "25%     27.300000                  0.243750   24.000000    0.000000  \n",
       "50%     32.000000                  0.372500   29.000000    0.000000  \n",
       "75%     36.600000                  0.626250   41.000000    1.000000  \n",
       "max     67.100000                  2.420000   81.000000    1.000000  "
      ]
     },
     "execution_count": 125,
     "metadata": {},
     "output_type": "execute_result"
    }
   ],
   "source": [
    "diabet_df.describe()"
   ]
  },
  {
   "cell_type": "code",
   "execution_count": 132,
   "id": "f3459b3b",
   "metadata": {
    "ExecuteTime": {
     "end_time": "2022-09-29T08:30:08.370446Z",
     "start_time": "2022-09-29T08:30:08.324568Z"
    }
   },
   "outputs": [
    {
     "data": {
      "text/html": [
       "<div>\n",
       "<style scoped>\n",
       "    .dataframe tbody tr th:only-of-type {\n",
       "        vertical-align: middle;\n",
       "    }\n",
       "\n",
       "    .dataframe tbody tr th {\n",
       "        vertical-align: top;\n",
       "    }\n",
       "\n",
       "    .dataframe thead th {\n",
       "        text-align: right;\n",
       "    }\n",
       "</style>\n",
       "<table border=\"1\" class=\"dataframe\">\n",
       "  <thead>\n",
       "    <tr style=\"text-align: right;\">\n",
       "      <th></th>\n",
       "      <th>Pregnancies</th>\n",
       "      <th>Glucose</th>\n",
       "      <th>BloodPressure</th>\n",
       "      <th>SkinThickness</th>\n",
       "      <th>Insulin</th>\n",
       "      <th>BMI</th>\n",
       "      <th>DiabetesPedigreeFunction</th>\n",
       "      <th>Age</th>\n",
       "    </tr>\n",
       "  </thead>\n",
       "  <tbody>\n",
       "    <tr>\n",
       "      <th>0</th>\n",
       "      <td>6</td>\n",
       "      <td>148</td>\n",
       "      <td>72</td>\n",
       "      <td>35</td>\n",
       "      <td>0</td>\n",
       "      <td>33.6</td>\n",
       "      <td>0.627</td>\n",
       "      <td>50</td>\n",
       "    </tr>\n",
       "    <tr>\n",
       "      <th>1</th>\n",
       "      <td>1</td>\n",
       "      <td>85</td>\n",
       "      <td>66</td>\n",
       "      <td>29</td>\n",
       "      <td>0</td>\n",
       "      <td>26.6</td>\n",
       "      <td>0.351</td>\n",
       "      <td>31</td>\n",
       "    </tr>\n",
       "    <tr>\n",
       "      <th>2</th>\n",
       "      <td>8</td>\n",
       "      <td>183</td>\n",
       "      <td>64</td>\n",
       "      <td>0</td>\n",
       "      <td>0</td>\n",
       "      <td>23.3</td>\n",
       "      <td>0.672</td>\n",
       "      <td>32</td>\n",
       "    </tr>\n",
       "    <tr>\n",
       "      <th>3</th>\n",
       "      <td>1</td>\n",
       "      <td>89</td>\n",
       "      <td>66</td>\n",
       "      <td>23</td>\n",
       "      <td>94</td>\n",
       "      <td>28.1</td>\n",
       "      <td>0.167</td>\n",
       "      <td>21</td>\n",
       "    </tr>\n",
       "    <tr>\n",
       "      <th>4</th>\n",
       "      <td>0</td>\n",
       "      <td>137</td>\n",
       "      <td>40</td>\n",
       "      <td>35</td>\n",
       "      <td>168</td>\n",
       "      <td>43.1</td>\n",
       "      <td>2.288</td>\n",
       "      <td>33</td>\n",
       "    </tr>\n",
       "    <tr>\n",
       "      <th>...</th>\n",
       "      <td>...</td>\n",
       "      <td>...</td>\n",
       "      <td>...</td>\n",
       "      <td>...</td>\n",
       "      <td>...</td>\n",
       "      <td>...</td>\n",
       "      <td>...</td>\n",
       "      <td>...</td>\n",
       "    </tr>\n",
       "    <tr>\n",
       "      <th>763</th>\n",
       "      <td>10</td>\n",
       "      <td>101</td>\n",
       "      <td>76</td>\n",
       "      <td>48</td>\n",
       "      <td>180</td>\n",
       "      <td>32.9</td>\n",
       "      <td>0.171</td>\n",
       "      <td>63</td>\n",
       "    </tr>\n",
       "    <tr>\n",
       "      <th>764</th>\n",
       "      <td>2</td>\n",
       "      <td>122</td>\n",
       "      <td>70</td>\n",
       "      <td>27</td>\n",
       "      <td>0</td>\n",
       "      <td>36.8</td>\n",
       "      <td>0.340</td>\n",
       "      <td>27</td>\n",
       "    </tr>\n",
       "    <tr>\n",
       "      <th>765</th>\n",
       "      <td>5</td>\n",
       "      <td>121</td>\n",
       "      <td>72</td>\n",
       "      <td>23</td>\n",
       "      <td>112</td>\n",
       "      <td>26.2</td>\n",
       "      <td>0.245</td>\n",
       "      <td>30</td>\n",
       "    </tr>\n",
       "    <tr>\n",
       "      <th>766</th>\n",
       "      <td>1</td>\n",
       "      <td>126</td>\n",
       "      <td>60</td>\n",
       "      <td>0</td>\n",
       "      <td>0</td>\n",
       "      <td>30.1</td>\n",
       "      <td>0.349</td>\n",
       "      <td>47</td>\n",
       "    </tr>\n",
       "    <tr>\n",
       "      <th>767</th>\n",
       "      <td>1</td>\n",
       "      <td>93</td>\n",
       "      <td>70</td>\n",
       "      <td>31</td>\n",
       "      <td>0</td>\n",
       "      <td>30.4</td>\n",
       "      <td>0.315</td>\n",
       "      <td>23</td>\n",
       "    </tr>\n",
       "  </tbody>\n",
       "</table>\n",
       "<p>768 rows × 8 columns</p>\n",
       "</div>"
      ],
      "text/plain": [
       "     Pregnancies  Glucose  BloodPressure  SkinThickness  Insulin   BMI  \\\n",
       "0              6      148             72             35        0  33.6   \n",
       "1              1       85             66             29        0  26.6   \n",
       "2              8      183             64              0        0  23.3   \n",
       "3              1       89             66             23       94  28.1   \n",
       "4              0      137             40             35      168  43.1   \n",
       "..           ...      ...            ...            ...      ...   ...   \n",
       "763           10      101             76             48      180  32.9   \n",
       "764            2      122             70             27        0  36.8   \n",
       "765            5      121             72             23      112  26.2   \n",
       "766            1      126             60              0        0  30.1   \n",
       "767            1       93             70             31        0  30.4   \n",
       "\n",
       "     DiabetesPedigreeFunction  Age  \n",
       "0                       0.627   50  \n",
       "1                       0.351   31  \n",
       "2                       0.672   32  \n",
       "3                       0.167   21  \n",
       "4                       2.288   33  \n",
       "..                        ...  ...  \n",
       "763                     0.171   63  \n",
       "764                     0.340   27  \n",
       "765                     0.245   30  \n",
       "766                     0.349   47  \n",
       "767                     0.315   23  \n",
       "\n",
       "[768 rows x 8 columns]"
      ]
     },
     "execution_count": 132,
     "metadata": {},
     "output_type": "execute_result"
    }
   ],
   "source": [
    "features = diabet_df.drop('Outcome', axis=1)\n",
    "label = diabet_df['Outcome']\n",
    "features"
   ]
  },
  {
   "cell_type": "code",
   "execution_count": 133,
   "id": "47eaa6a6",
   "metadata": {
    "ExecuteTime": {
     "end_time": "2022-09-29T08:30:11.700042Z",
     "start_time": "2022-09-29T08:30:11.494592Z"
    }
   },
   "outputs": [
    {
     "data": {
      "text/html": [
       "<div>\n",
       "<style scoped>\n",
       "    .dataframe tbody tr th:only-of-type {\n",
       "        vertical-align: middle;\n",
       "    }\n",
       "\n",
       "    .dataframe tbody tr th {\n",
       "        vertical-align: top;\n",
       "    }\n",
       "\n",
       "    .dataframe thead th {\n",
       "        text-align: right;\n",
       "    }\n",
       "</style>\n",
       "<table border=\"1\" class=\"dataframe\">\n",
       "  <thead>\n",
       "    <tr style=\"text-align: right;\">\n",
       "      <th></th>\n",
       "      <th>params</th>\n",
       "      <th>mean_test_score</th>\n",
       "      <th>rank_test_score</th>\n",
       "      <th>split0_test_score</th>\n",
       "      <th>split1_test_score</th>\n",
       "      <th>split2_test_score</th>\n",
       "    </tr>\n",
       "  </thead>\n",
       "  <tbody>\n",
       "    <tr>\n",
       "      <th>0</th>\n",
       "      <td>{'max_depth': 1, 'min_samples_split': 2}</td>\n",
       "      <td>0.711701</td>\n",
       "      <td>3</td>\n",
       "      <td>0.731707</td>\n",
       "      <td>0.707317</td>\n",
       "      <td>0.696078</td>\n",
       "    </tr>\n",
       "    <tr>\n",
       "      <th>1</th>\n",
       "      <td>{'max_depth': 1, 'min_samples_split': 3}</td>\n",
       "      <td>0.711701</td>\n",
       "      <td>3</td>\n",
       "      <td>0.731707</td>\n",
       "      <td>0.707317</td>\n",
       "      <td>0.696078</td>\n",
       "    </tr>\n",
       "    <tr>\n",
       "      <th>2</th>\n",
       "      <td>{'max_depth': 2, 'min_samples_split': 2}</td>\n",
       "      <td>0.723139</td>\n",
       "      <td>1</td>\n",
       "      <td>0.731707</td>\n",
       "      <td>0.707317</td>\n",
       "      <td>0.730392</td>\n",
       "    </tr>\n",
       "    <tr>\n",
       "      <th>3</th>\n",
       "      <td>{'max_depth': 2, 'min_samples_split': 3}</td>\n",
       "      <td>0.723139</td>\n",
       "      <td>1</td>\n",
       "      <td>0.731707</td>\n",
       "      <td>0.707317</td>\n",
       "      <td>0.730392</td>\n",
       "    </tr>\n",
       "    <tr>\n",
       "      <th>4</th>\n",
       "      <td>{'max_depth': 3, 'min_samples_split': 2}</td>\n",
       "      <td>0.695441</td>\n",
       "      <td>5</td>\n",
       "      <td>0.707317</td>\n",
       "      <td>0.682927</td>\n",
       "      <td>0.696078</td>\n",
       "    </tr>\n",
       "    <tr>\n",
       "      <th>5</th>\n",
       "      <td>{'max_depth': 3, 'min_samples_split': 3}</td>\n",
       "      <td>0.695441</td>\n",
       "      <td>5</td>\n",
       "      <td>0.707317</td>\n",
       "      <td>0.682927</td>\n",
       "      <td>0.696078</td>\n",
       "    </tr>\n",
       "  </tbody>\n",
       "</table>\n",
       "</div>"
      ],
      "text/plain": [
       "                                     params  mean_test_score  rank_test_score  \\\n",
       "0  {'max_depth': 1, 'min_samples_split': 2}         0.711701                3   \n",
       "1  {'max_depth': 1, 'min_samples_split': 3}         0.711701                3   \n",
       "2  {'max_depth': 2, 'min_samples_split': 2}         0.723139                1   \n",
       "3  {'max_depth': 2, 'min_samples_split': 3}         0.723139                1   \n",
       "4  {'max_depth': 3, 'min_samples_split': 2}         0.695441                5   \n",
       "5  {'max_depth': 3, 'min_samples_split': 3}         0.695441                5   \n",
       "\n",
       "   split0_test_score  split1_test_score  split2_test_score  \n",
       "0           0.731707           0.707317           0.696078  \n",
       "1           0.731707           0.707317           0.696078  \n",
       "2           0.731707           0.707317           0.730392  \n",
       "3           0.731707           0.707317           0.730392  \n",
       "4           0.707317           0.682927           0.696078  \n",
       "5           0.707317           0.682927           0.696078  "
      ]
     },
     "execution_count": 133,
     "metadata": {},
     "output_type": "execute_result"
    }
   ],
   "source": [
    "from sklearn.tree import DecisionTreeClassifier\n",
    "from sklearn.model_selection import GridSearchCV\n",
    "\n",
    "# 데이터를 로딩하고 학습데이터와 테스트 데이터 분리\n",
    "\n",
    "X_train, X_test, y_train, y_test = train_test_split(features, label, test_size=0.2, random_state=121)\n",
    "dtree = DecisionTreeClassifier()\n",
    "## parameter들을 dictionary형태로 설정\n",
    "parameters = {'max_depth' : [1,2,3], 'min_samples_split' : [2,3]}\n",
    "import pandas as pd\n",
    "grid_dtree = GridSearchCV(dtree, param_grid=parameters, cv=3, refit=True)\n",
    "\n",
    "grid_dtree.fit(X_train, y_train)\n",
    "# GridSearchCV 결과 추출하여 DataFrame으로 변환\n",
    "scores_df = pd.DataFrame(grid_dtree.cv_results_)\n",
    "scores_df[['params', 'mean_test_score', 'rank_test_score',\\\n",
    "    'split0_test_score', 'split1_test_score', 'split2_test_score']]"
   ]
  },
  {
   "cell_type": "code",
   "execution_count": 148,
   "id": "bb6ec83f",
   "metadata": {
    "ExecuteTime": {
     "end_time": "2022-09-29T08:37:46.563363Z",
     "start_time": "2022-09-29T08:37:46.543140Z"
    }
   },
   "outputs": [
    {
     "data": {
      "text/html": [
       "<div>\n",
       "<style scoped>\n",
       "    .dataframe tbody tr th:only-of-type {\n",
       "        vertical-align: middle;\n",
       "    }\n",
       "\n",
       "    .dataframe tbody tr th {\n",
       "        vertical-align: top;\n",
       "    }\n",
       "\n",
       "    .dataframe thead th {\n",
       "        text-align: right;\n",
       "    }\n",
       "</style>\n",
       "<table border=\"1\" class=\"dataframe\">\n",
       "  <thead>\n",
       "    <tr style=\"text-align: right;\">\n",
       "      <th></th>\n",
       "      <th>Pregnancies</th>\n",
       "      <th>Glucose</th>\n",
       "      <th>BloodPressure</th>\n",
       "      <th>SkinThickness</th>\n",
       "      <th>Insulin</th>\n",
       "      <th>BMI</th>\n",
       "      <th>DiabetesPedigreeFunction</th>\n",
       "      <th>Age</th>\n",
       "    </tr>\n",
       "  </thead>\n",
       "  <tbody>\n",
       "    <tr>\n",
       "      <th>601</th>\n",
       "      <td>6</td>\n",
       "      <td>96</td>\n",
       "      <td>0</td>\n",
       "      <td>0</td>\n",
       "      <td>0</td>\n",
       "      <td>23.7</td>\n",
       "      <td>0.19</td>\n",
       "      <td>28</td>\n",
       "    </tr>\n",
       "  </tbody>\n",
       "</table>\n",
       "</div>"
      ],
      "text/plain": [
       "     Pregnancies  Glucose  BloodPressure  SkinThickness  Insulin   BMI  \\\n",
       "601            6       96              0              0        0  23.7   \n",
       "\n",
       "     DiabetesPedigreeFunction  Age  \n",
       "601                      0.19   28  "
      ]
     },
     "execution_count": 148,
     "metadata": {},
     "output_type": "execute_result"
    }
   ],
   "source": [
    "X_test.iloc[:1]\n"
   ]
  },
  {
   "cell_type": "code",
   "execution_count": 139,
   "id": "4aa840a6",
   "metadata": {
    "ExecuteTime": {
     "end_time": "2022-09-29T08:32:02.808781Z",
     "start_time": "2022-09-29T08:32:02.786806Z"
    }
   },
   "outputs": [
    {
     "data": {
      "text/plain": [
       "601    0\n",
       "224    0\n",
       "766    1\n",
       "17     1\n",
       "369    1\n",
       "      ..\n",
       "479    0\n",
       "283    1\n",
       "554    0\n",
       "688    0\n",
       "81     0\n",
       "Name: Outcome, Length: 154, dtype: int64"
      ]
     },
     "execution_count": 139,
     "metadata": {},
     "output_type": "execute_result"
    }
   ],
   "source": [
    "y_test"
   ]
  },
  {
   "cell_type": "code",
   "execution_count": 149,
   "id": "6f0ca902",
   "metadata": {
    "ExecuteTime": {
     "end_time": "2022-09-29T08:37:56.531170Z",
     "start_time": "2022-09-29T08:37:56.516209Z"
    }
   },
   "outputs": [
    {
     "data": {
      "text/plain": [
       "array([0], dtype=int64)"
      ]
     },
     "execution_count": 149,
     "metadata": {},
     "output_type": "execute_result"
    }
   ],
   "source": [
    "grid_dtree.predict(X_test.iloc[:1])"
   ]
  },
  {
   "cell_type": "code",
   "execution_count": null,
   "id": "c9959fe5",
   "metadata": {},
   "outputs": [],
   "source": []
  }
 ],
 "metadata": {
  "kernelspec": {
   "display_name": "Python 3 (ipykernel)",
   "language": "python",
   "name": "python3"
  },
  "language_info": {
   "codemirror_mode": {
    "name": "ipython",
    "version": 3
   },
   "file_extension": ".py",
   "mimetype": "text/x-python",
   "name": "python",
   "nbconvert_exporter": "python",
   "pygments_lexer": "ipython3",
   "version": "3.10.6"
  },
  "toc": {
   "base_numbering": 1,
   "nav_menu": {},
   "number_sections": true,
   "sideBar": true,
   "skip_h1_title": false,
   "title_cell": "Table of Contents",
   "title_sidebar": "Contents",
   "toc_cell": false,
   "toc_position": {},
   "toc_section_display": true,
   "toc_window_display": false
  },
  "varInspector": {
   "cols": {
    "lenName": 16,
    "lenType": 16,
    "lenVar": 40
   },
   "kernels_config": {
    "python": {
     "delete_cmd_postfix": "",
     "delete_cmd_prefix": "del ",
     "library": "var_list.py",
     "varRefreshCmd": "print(var_dic_list())"
    },
    "r": {
     "delete_cmd_postfix": ") ",
     "delete_cmd_prefix": "rm(",
     "library": "var_list.r",
     "varRefreshCmd": "cat(var_dic_list()) "
    }
   },
   "types_to_exclude": [
    "module",
    "function",
    "builtin_function_or_method",
    "instance",
    "_Feature"
   ],
   "window_display": false
  }
 },
 "nbformat": 4,
 "nbformat_minor": 5
}
