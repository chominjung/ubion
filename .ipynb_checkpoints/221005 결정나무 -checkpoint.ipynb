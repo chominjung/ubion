{
 "cells": [
  {
   "cell_type": "markdown",
   "id": "5416e1ee",
   "metadata": {},
   "source": [
    "#### sklearn.tree.DecisionTreeClassifier¶\n",
    "* class sklearn.tree.DecisionTreeClassifier(*, criterion='gini', splitter='best', max_depth=None, min_samples_split=2, min_samples_leaf=1, min_weight_fraction_leaf=0.0, max_features=None, random_state=None, max_leaf_nodes=None, min_impurity_decrease=0.0, class_weight=None, ccp_alpha=0.0)[source]"
   ]
  },
  {
   "cell_type": "code",
   "execution_count": null,
   "id": "d21f5394",
   "metadata": {
    "ExecuteTime": {
     "start_time": "2022-10-07T10:16:28.788Z"
    }
   },
   "outputs": [],
   "source": [
    "from sklearn.tree import DecisionTreeClassifier\n",
    "from sklearn.datasets import load_iris\n",
    "from sklearn.model_selection import train_test_split\n",
    "import warnings\n",
    "warnings.filterwarnings('ignore')\n",
    "\n",
    "dt_clf = DecisionTreeClassifier(random_state= 156)\n",
    "iris_data = load_iris()\n",
    "X_train, X_test, y_train, y_test = train_test_split(iris_data.data, iris_data.target, test_size = 0.2, random_state = 11)\n",
    "dt_clf.fit(X_train, y_train)"
   ]
  },
  {
   "cell_type": "code",
   "execution_count": null,
   "id": "c5284235",
   "metadata": {
    "ExecuteTime": {
     "start_time": "2022-10-07T10:16:28.792Z"
    }
   },
   "outputs": [],
   "source": [
    "pred=dt_clf.predict(X_test)"
   ]
  },
  {
   "cell_type": "code",
   "execution_count": null,
   "id": "87a80812",
   "metadata": {
    "ExecuteTime": {
     "start_time": "2022-10-07T10:16:28.796Z"
    }
   },
   "outputs": [],
   "source": [
    "pred"
   ]
  },
  {
   "cell_type": "code",
   "execution_count": null,
   "id": "45b47f7a",
   "metadata": {
    "ExecuteTime": {
     "start_time": "2022-10-07T10:16:28.801Z"
    }
   },
   "outputs": [],
   "source": [
    "from sklearn.metrics import accuracy_score\n",
    "\n",
    "print(f'정확도는: {accuracy_score(y_test, pred)}')"
   ]
  },
  {
   "cell_type": "code",
   "execution_count": null,
   "id": "7de6cbd7",
   "metadata": {
    "ExecuteTime": {
     "start_time": "2022-10-07T10:16:28.805Z"
    }
   },
   "outputs": [],
   "source": [
    "dt_clf.feature_importances_"
   ]
  },
  {
   "cell_type": "code",
   "execution_count": null,
   "id": "2ce78126",
   "metadata": {
    "ExecuteTime": {
     "start_time": "2022-10-07T10:16:28.809Z"
    }
   },
   "outputs": [],
   "source": [
    "import matplotlib.pyplot as plt\n",
    "plt.bar(iris_data.feature_names,dt_clf. feature_importances_,  color='red')\n",
    "plt.show()"
   ]
  },
  {
   "cell_type": "code",
   "execution_count": null,
   "id": "546133da",
   "metadata": {
    "ExecuteTime": {
     "start_time": "2022-10-07T10:16:28.814Z"
    }
   },
   "outputs": [],
   "source": [
    "iris_data.target_names"
   ]
  },
  {
   "cell_type": "markdown",
   "id": "eaaf1e54",
   "metadata": {},
   "source": [
    "feature importance는 petal length와 petal width가 높다."
   ]
  },
  {
   "cell_type": "code",
   "execution_count": null,
   "id": "70f4306d",
   "metadata": {
    "ExecuteTime": {
     "start_time": "2022-10-07T10:16:28.818Z"
    }
   },
   "outputs": [],
   "source": [
    "from sklearn.tree import export_graphviz\n",
    "export_graphviz(dt_clf, out_file='tree.dot', class_names=iris_data.target_names, \n",
    "feature_names=iris_data.feature_names, impurity = True, filled=True)"
   ]
  },
  {
   "cell_type": "code",
   "execution_count": null,
   "id": "c9e1b6b6",
   "metadata": {
    "ExecuteTime": {
     "start_time": "2022-10-07T10:16:28.822Z"
    }
   },
   "outputs": [],
   "source": [
    "import graphviz\n",
    "with open('tree.dot') as f:\n",
    "    dot_graph = f.read()\n",
    "graphviz.Source(dot_graph)   "
   ]
  },
  {
   "cell_type": "code",
   "execution_count": null,
   "id": "4a265683",
   "metadata": {
    "ExecuteTime": {
     "start_time": "2022-10-07T10:16:28.826Z"
    }
   },
   "outputs": [],
   "source": [
    "from sklearn.datasets import make_classification\n",
    "import matplotlib.pyplot as plt\n",
    "%matplotlib inline\n",
    "\n",
    "plt.title('3 Class Values with 2 Features Sample Data Creation')\n",
    "\n",
    "# 2차원 시각화를 위해서 피처는 2개, 클래스는 3가지 유형의 분류 샘플 데이터 생성\n",
    "X_features, y_labels = make_classification(n_features=2, n_redundant=0, n_informative=2, n_classes=3, n_clusters_per_class=1, random_state=0)\n",
    "\n",
    "# 그래프 형태로 2개의 피처로 2차원 좌표 시각화, 각 클래스 값은 다른 색깔로 표시\n",
    "plt.scatter(X_features[:, 0], X_features[:, 1], marker='o', c=y_labels, s=25, edgecolors='k')"
   ]
  },
  {
   "cell_type": "code",
   "execution_count": null,
   "id": "1c5bf9e1",
   "metadata": {
    "ExecuteTime": {
     "start_time": "2022-10-07T10:16:28.829Z"
    }
   },
   "outputs": [],
   "source": [
    "import numpy as np\n",
    "\n",
    "# Classifier의 Decision Boundary를 시각화 하는 함수\n",
    "def visualize_boundary(model, X, y):\n",
    "    fig,ax = plt.subplots()\n",
    "    \n",
    "    # 학습 데이타 scatter plot으로 나타내기\n",
    "    ax.scatter(X[:, 0], X[:, 1], c=y, s=25, cmap='rainbow', edgecolor='k',\n",
    "               clim=(y.min(), y.max()), zorder=3)\n",
    "    ax.axis('tight')\n",
    "    ax.axis('off')\n",
    "    xlim_start , xlim_end = ax.get_xlim()\n",
    "    ylim_start , ylim_end = ax.get_ylim()\n",
    "    \n",
    "    # 호출 파라미터로 들어온 training 데이타로 model 학습 . \n",
    "    model.fit(X, y)\n",
    "    # meshgrid 형태인 모든 좌표값으로 예측 수행. \n",
    "    xx, yy = np.meshgrid(np.linspace(xlim_start,xlim_end, num=200),np.linspace(ylim_start,ylim_end, num=200))\n",
    "    Z = model.predict(np.c_[xx.ravel(), yy.ravel()]).reshape(xx.shape)\n",
    "    \n",
    "    # contourf() 를 이용하여 class boundary 를 visualization 수행. \n",
    "    n_classes = len(np.unique(y))\n",
    "    contours = ax.contourf(xx, yy, Z, alpha=0.3,\n",
    "                           levels=np.arange(n_classes + 1) - 0.5,\n",
    "                           cmap='rainbow', clim=(y.min(), y.max()),\n",
    "                           zorder=1)"
   ]
  },
  {
   "cell_type": "code",
   "execution_count": null,
   "id": "813bc996",
   "metadata": {
    "ExecuteTime": {
     "start_time": "2022-10-07T10:16:28.834Z"
    }
   },
   "outputs": [],
   "source": [
    "from sklearn.tree import DecisionTreeClassifier\n",
    "\n",
    "dt_clf = DecisionTreeClassifier().fit(X_features, y_labels)\n",
    "visualize_boundary(dt_clf, X_features, y_labels)"
   ]
  },
  {
   "cell_type": "code",
   "execution_count": null,
   "id": "c580a592",
   "metadata": {
    "ExecuteTime": {
     "start_time": "2022-10-07T10:16:28.837Z"
    }
   },
   "outputs": [],
   "source": [
    "from sklearn.tree import DecisionTreeClassifier\n",
    "\n",
    "#특정한 트리 생성 제약없는 결정 트리의 Decision Boundary 시각화.\n",
    "dt_clf = DecisionTreeClassifier(min_samples_leaf=6).fit(X_features, y_labels)\n",
    "visualize_boundary(dt_clf, X_features, y_labels)"
   ]
  },
  {
   "cell_type": "code",
   "execution_count": null,
   "id": "2d6ae5e1",
   "metadata": {
    "ExecuteTime": {
     "start_time": "2022-10-07T10:16:28.841Z"
    }
   },
   "outputs": [],
   "source": [
    "from sklearn.tree import DecisionTreeClassifier\n",
    "\n",
    "#특정한 트리 생성 제약없는 결정 트리의 Decision Boundary 시각화.\n",
    "dt_clf = DecisionTreeClassifier(max_depth=3,min_samples_leaf=6).fit(X_features, y_labels)\n",
    "visualize_boundary(dt_clf, X_features, y_labels)"
   ]
  },
  {
   "cell_type": "markdown",
   "id": "0db97095",
   "metadata": {},
   "source": [
    "#### 결정 나무 실습-사용자 행동 인식 데이터 세트"
   ]
  },
  {
   "cell_type": "code",
   "execution_count": null,
   "id": "ef3c24b3",
   "metadata": {
    "ExecuteTime": {
     "start_time": "2022-10-07T10:16:28.846Z"
    }
   },
   "outputs": [],
   "source": [
    "import pandas as pd\n",
    "import matplotlib.pyplot as plt\n",
    "\n",
    "feature_name_df=pd.read_csv('./datasets/human_activity/features.txt', sep='\\s+',\n",
    "                             header=None, names = ['column_index', 'column_name'])\n",
    "\n",
    "feature_name=feature_name_df.iloc[:,1].values.tolist()\n",
    "print('전체 피처명에서 10개만 추출:', feature_name[:10])"
   ]
  },
  {
   "cell_type": "code",
   "execution_count": null,
   "id": "7f6d0534",
   "metadata": {
    "ExecuteTime": {
     "start_time": "2022-10-07T10:16:28.852Z"
    }
   },
   "outputs": [],
   "source": [
    "feature_dup_df=feature_name_df.groupby('column_name').count()\n",
    "print(feature_dup_df[feature_dup_df['column_index']>1].count())\n",
    "feature_dup_df[feature_dup_df['column_index']>1].head()"
   ]
  },
  {
   "cell_type": "code",
   "execution_count": null,
   "id": "ce3c4899",
   "metadata": {
    "ExecuteTime": {
     "start_time": "2022-10-07T10:16:28.856Z"
    }
   },
   "outputs": [],
   "source": [
    "def get_new_feature_name_df(old_feature_name_df):\n",
    "    feature_dup_df=pd.DataFrame(data=old_feature_name_df.groupby('column_name').cumcount(),\n",
    "                               columns=['dup_cnt'])\n",
    "    feature_dup_df=feature_dup_df.reset_index()\n",
    "    new_feature_name_df=pd.merge(old_feature_name_df.reset_index(), feature_dup_df, how='outer')\n",
    "    new_feature_name_df['column_name']=new_feature_name_df[['column_name', 'dup_cnt']].apply(lambda x: x[0]+'_'+str(x[1])\n",
    "                                                                                           if x[1]>0 else x[0], axis=1)\n",
    "    new_feature_name_df=new_feature_name_df.drop(['index'], axis=1)\n",
    "    return new_feature_name_df"
   ]
  },
  {
   "cell_type": "code",
   "execution_count": null,
   "id": "e7cfc87a",
   "metadata": {
    "ExecuteTime": {
     "start_time": "2022-10-07T10:16:28.861Z"
    }
   },
   "outputs": [],
   "source": [
    "print('## 학습 피처 데이터셋 info()')\n",
    "print(X_train.info())"
   ]
  },
  {
   "cell_type": "code",
   "execution_count": null,
   "id": "61ebb495",
   "metadata": {
    "ExecuteTime": {
     "start_time": "2022-10-07T10:16:28.865Z"
    }
   },
   "outputs": [],
   "source": [
    "import pandas as pd\n",
    "\n",
    "def get_human_dataset():\n",
    "    # 공백 데이터를 분리하게 위해 공백 문자를 sep로 할당시켜 줌.\n",
    "    feature_name_df = pd.read_csv('./datasets/human_activity/features.txt', sep='\\s+',\n",
    "                             header=None, names = ['column_index', 'column_name'])\n",
    "    \n",
    "    new_feature_name_df=get_new_feature_name_df(feature_name_df)\n",
    "    \n",
    "    # 피처명을 칼럼으로 부여해 주기 위해서 리스트 객체로 다시 변환하여 준다.\n",
    "    feature_name = new_feature_name_df.iloc[:,1].values.tolist()\n",
    "    \n",
    "    # 학습 피처, 데스트 피처를 DataFrame으로 로딩하고, 칼럼명은 feature_name 으로 적용헤 준다.\n",
    "    X_train= pd.read_csv('./datasets/human_activity/train/X_train.txt',sep='\\s+',names=feature_name)\n",
    "    X_test= pd.read_csv('./datasets/human_activity/test/X_test.txt',sep='\\s+',names=feature_name)\n",
    "                        \n",
    "    # 학습 레이블과 테스트 레이블을 DataFrame으로 로딩하고, 칼럼명은 action으로 적용해 준다.\n",
    "    y_train= pd.read_csv('./datasets/human_activity/train/y_train.txt',sep='\\s+', header=None, names=['action'])\n",
    "    y_test= pd.read_csv('./datasets/human_activity/test/y_test.txt',sep='\\s+',header=None,names=['action'])\n",
    "                        \n",
    "    # 학습&테스트용 DataFrame을 모두 반환 시킴.\n",
    "    return X_train, X_test, y_train, y_test\n",
    "                        \n",
    "X_train, X_test, y_train, y_test = get_human_dataset()"
   ]
  },
  {
   "cell_type": "code",
   "execution_count": null,
   "id": "3db1466c",
   "metadata": {
    "ExecuteTime": {
     "start_time": "2022-10-07T10:16:28.869Z"
    }
   },
   "outputs": [],
   "source": [
    "print(y_train['action'].value_counts())"
   ]
  },
  {
   "cell_type": "code",
   "execution_count": null,
   "id": "6f37110b",
   "metadata": {
    "ExecuteTime": {
     "start_time": "2022-10-07T10:16:28.873Z"
    }
   },
   "outputs": [],
   "source": [
    "X_train.isna().sum().sum()"
   ]
  },
  {
   "cell_type": "code",
   "execution_count": null,
   "id": "bf488580",
   "metadata": {
    "ExecuteTime": {
     "start_time": "2022-10-07T10:16:28.878Z"
    }
   },
   "outputs": [],
   "source": [
    "from sklearn.tree import DecisionTreeClassifier\n",
    "from sklearn.metrics import accuracy_score\n",
    "\n",
    "dt_clf=DecisionTreeClassifier(random_state=156)\n",
    "dt_clf.fit(X_train, y_train)\n",
    "pred=dt_clf.predict(X_test)\n",
    "accuracy=accuracy_score(y_test, pred)\n",
    "print('결정 트리 예측 정확도:{0:4f}'.format(accuracy))\n",
    "\n",
    "print('DecisionTreeClassifier 기본 하이퍼 파라미터:\\n', dt_clf.get_params())"
   ]
  },
  {
   "cell_type": "code",
   "execution_count": null,
   "id": "4603a3bd",
   "metadata": {
    "ExecuteTime": {
     "start_time": "2022-10-07T10:16:28.882Z"
    }
   },
   "outputs": [],
   "source": [
    "from sklearn.model_selection import GridSearchCV\n",
    "\n",
    "params={'max_depth':[6,8,10,12,16,20,24]}\n",
    "\n",
    "grid_cv=GridSearchCV(dt_clf, param_grid=params, scoring='accuracy', cv=5, verbose=1)\n",
    "grid_cv.fit(X_train, y_train)\n",
    "print('GridSearchCV 최고 평균 정확도 수치:{0:.4f}'.format(grid_cv.best_score_))\n",
    "print('GridSearchCV 최적 하이퍼 파라미터:', grid_cv.best_params_)"
   ]
  },
  {
   "cell_type": "code",
   "execution_count": null,
   "id": "480d5e2e",
   "metadata": {},
   "outputs": [],
   "source": []
  },
  {
   "cell_type": "markdown",
   "id": "26ae6012",
   "metadata": {},
   "source": [
    "#### sklearn.ensemble.RandomForestClassifier\n",
    "* class sklearn.ensemble.RandomForestClassifier(n_estimators=100, *, criterion='gini', max_depth=None, min_samples_split=2, min_samples_leaf=1, min_weight_fraction_leaf=0.0, max_features='sqrt', max_leaf_nodes=None, min_impurity_decrease=0.0, bootstrap=True, oob_score=False, n_jobs=None, random_state=None, verbose=0, warm_start=False, class_weight=None, ccp_alpha=0.0, max_samples=None)[source]"
   ]
  },
  {
   "cell_type": "markdown",
   "id": "c0875e44",
   "metadata": {
    "ExecuteTime": {
     "end_time": "2022-10-07T08:47:18.780198Z",
     "start_time": "2022-10-07T08:47:18.700013Z"
    }
   },
   "source": [
    "#### sklearn.ensemble.RandomForestRegressor\n",
    "* class sklearn.ensemble.RandomForestRegressor(n_estimators=100, *, criterion='squared_error', max_depth=None, min_samples_split=2, min_samples_leaf=1, min_weight_fraction_leaf=0.0, max_features=1.0, max_leaf_nodes=None, min_impurity_decrease=0.0, bootstrap=True, oob_score=False, n_jobs=None, random_state=None, verbose=0, warm_start=False, ccp_alpha=0.0, max_samples=None)[source]"
   ]
  },
  {
   "cell_type": "code",
   "execution_count": null,
   "id": "7b602b1f",
   "metadata": {
    "ExecuteTime": {
     "start_time": "2022-10-07T10:16:28.891Z"
    }
   },
   "outputs": [],
   "source": [
    "import pandas as pd\n",
    "from sklearn.ensemble import VotingClassifier, RandomForestClassifier\n",
    "from sklearn.linear_model import LogisticRegression\n",
    "from sklearn.neighbors import KNeighborsClassifier\n",
    "from sklearn.datasets import load_breast_cancer\n",
    "from sklearn.model_selection import train_test_split\n",
    "from sklearn.metrics import accuracy_score\n",
    "\n",
    "cancer = load_breast_cancer()\n",
    "\n",
    "data_df = pd.DataFrame(cancer.data, columns=cancer.feature_names)\n",
    "data_df.head()"
   ]
  },
  {
   "cell_type": "code",
   "execution_count": null,
   "id": "76c512f9",
   "metadata": {
    "ExecuteTime": {
     "start_time": "2022-10-07T10:16:28.895Z"
    }
   },
   "outputs": [],
   "source": [
    "# 개별 모델은 로지스틱 회귀와 KNN임\n",
    "lr_clf = LogisticRegression()\n",
    "knn_clf = KNeighborsClassifier(n_neighbors=8)\n",
    "dt_clf = DecisionTreeClassifier()\n",
    "rf_clf = RandomForestClassifier(random_state=0)\n",
    "\n",
    "\n",
    "# 개별 모델을 소프트 보팅 기반의 앙상블 모델로 구현한 분류기\n",
    "vo_clf = VotingClassifier(estimators=[('LR', lr_clf), ('KNN', knn_clf), ('DC', dt_clf), ('RF', rf_clf)], voting='soft')\n",
    "\n",
    "X_train, X_test, y_train, y_test = train_test_split(cancer.data, cancer.target, test_size=0.2, random_state=156)\n",
    "\n",
    "# VotingClassifier 학습/예측/평가\n",
    "vo_clf.fit(X_train, y_train)\n",
    "pred = vo_clf.predict(X_test)\n",
    "print('Voting 분류기 정확도 : {0:.4f}'.format(accuracy_score(y_test, pred)))\n",
    "\n",
    "# 개별 모델의 학습/예측/평가\n",
    "classifiers = [dt_clf, lr_clf, knn_clf, rf_clf]\n",
    "for classifier in classifiers:\n",
    "    classifier.fit(X_train, y_train)\n",
    "    pred = classifier.predict(X_test)\n",
    "    class_name = classifier.__class__.__name__\n",
    "    print('{0} 정확도 : {1:.4f}'.format(class_name, accuracy_score(y_test, pred)))\n",
    "    #print(f'{class_name} 정확도 : {accuracy_score(y_test, pred)}')"
   ]
  },
  {
   "cell_type": "code",
   "execution_count": null,
   "id": "f1a7465a",
   "metadata": {
    "ExecuteTime": {
     "start_time": "2022-10-07T10:16:28.901Z"
    }
   },
   "outputs": [],
   "source": [
    "def get_new_feature_name_df(old_feature_name_df):\n",
    "    feature_dup_df=pd.DataFrame(data=old_feature_name_df.groupby('column_name').cumcount(),\n",
    "                               columns=['dup_cnt'])\n",
    "    feature_dup_df=feature_dup_df.reset_index()\n",
    "    new_feature_name_df=pd.merge(old_feature_name_df.reset_index(),feature_dup_df,how='outer')\n",
    "    new_feature_name_df['column_name']=new_feature_name_df[['column_name', 'dup_cnt']].apply(lambda x: x[0]+'_'+str(x[1])\n",
    "                                                                                             if x[1]>0 else x[0], axis=1)\n",
    "    new_feature_name_df=new_feature_name_df.drop(['index'], axis=1)\n",
    "    return new_feature_name_df"
   ]
  },
  {
   "cell_type": "code",
   "execution_count": null,
   "id": "e9c719e1",
   "metadata": {
    "ExecuteTime": {
     "start_time": "2022-10-07T10:16:28.906Z"
    }
   },
   "outputs": [],
   "source": [
    "import pandas as pd\n",
    "\n",
    "def get_human_dataset():\n",
    "    \n",
    "    feature_name_df=pd.read_csv('./datasets/human_activity/features.txt', sep='\\s+',\n",
    "                             header=None, names = ['column_index', 'column_name'])\n",
    "    \n",
    "    new_feature_name_df=get_new_feature_name_df(feature_name_df)\n",
    "    feature_name_df=new_feature_name_df.iloc[:,1].values.tolist()\n",
    "    \n",
    "    X_train=pd.read_csv('./datasets/human_activity/features.txt', sep='\\s+', names = ['column_index', 'column_name'])\n",
    "    X_test=pd.read_csv('./datasets/human_activity/features.txt', sep='\\s+', names = ['column_index', 'column_name'])\n",
    "    \n",
    "    y_train=pd.read_csv('./datasets/human_activity/features.txt', sep='\\s+',\n",
    "                             header=None, names = ['column_index', 'column_name'])\n",
    "    y_test=pd.read_csv('./datasets/human_activity/features.txt', sep='\\s+',\n",
    "                             header=None, names = ['column_index', 'column_name'])\n",
    "                       \n",
    "    return X_train, X_test, y_train, y_test\n",
    "X_train, X_test, y_train, y_test=get_human_dataset()\n"
   ]
  },
  {
   "cell_type": "code",
   "execution_count": null,
   "id": "310affe8",
   "metadata": {},
   "outputs": [],
   "source": []
  }
 ],
 "metadata": {
  "kernelspec": {
   "display_name": "Python 3 (ipykernel)",
   "language": "python",
   "name": "python3"
  },
  "language_info": {
   "codemirror_mode": {
    "name": "ipython",
    "version": 3
   },
   "file_extension": ".py",
   "mimetype": "text/x-python",
   "name": "python",
   "nbconvert_exporter": "python",
   "pygments_lexer": "ipython3",
   "version": "3.10.6"
  },
  "toc": {
   "base_numbering": 1,
   "nav_menu": {},
   "number_sections": true,
   "sideBar": true,
   "skip_h1_title": false,
   "title_cell": "Table of Contents",
   "title_sidebar": "Contents",
   "toc_cell": false,
   "toc_position": {},
   "toc_section_display": true,
   "toc_window_display": false
  },
  "varInspector": {
   "cols": {
    "lenName": 16,
    "lenType": 16,
    "lenVar": 40
   },
   "kernels_config": {
    "python": {
     "delete_cmd_postfix": "",
     "delete_cmd_prefix": "del ",
     "library": "var_list.py",
     "varRefreshCmd": "print(var_dic_list())"
    },
    "r": {
     "delete_cmd_postfix": ") ",
     "delete_cmd_prefix": "rm(",
     "library": "var_list.r",
     "varRefreshCmd": "cat(var_dic_list()) "
    }
   },
   "types_to_exclude": [
    "module",
    "function",
    "builtin_function_or_method",
    "instance",
    "_Feature"
   ],
   "window_display": false
  }
 },
 "nbformat": 4,
 "nbformat_minor": 5
}
